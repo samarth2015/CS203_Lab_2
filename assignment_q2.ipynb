{
  "cells": [
    {
      "cell_type": "markdown",
      "metadata": {
        "id": "view-in-github",
        "colab_type": "text"
      },
      "source": [
        "<a href=\"https://colab.research.google.com/github/samarth2015/CS203_Lab_2/blob/main/assignment_q2.ipynb\" target=\"_parent\"><img src=\"https://colab.research.google.com/assets/colab-badge.svg\" alt=\"Open In Colab\"/></a>"
      ]
    },
    {
      "cell_type": "markdown",
      "source": [
        "Assignment 2 (Team 23)\n",
        "\n",
        "*   Praneel Joshi- 23110254\n",
        "*   Sonawane Samarth- 23110317\n",
        "\n"
      ],
      "metadata": {
        "id": "xDI-_SwRN6mZ"
      }
    },
    {
      "cell_type": "markdown",
      "source": [
        "Mount Google Drive to access files stored in it."
      ],
      "metadata": {
        "id": "Tn0_GCrLDh0y"
      }
    },
    {
      "cell_type": "code",
      "source": [
        "from google.colab import drive\n",
        "drive.mount('/content/drive')"
      ],
      "metadata": {
        "id": "u4MxKWBKb7lb",
        "outputId": "32c0f2dc-f32d-4b4b-974d-c42865da0083",
        "colab": {
          "base_uri": "https://localhost:8080/"
        }
      },
      "execution_count": null,
      "outputs": [
        {
          "output_type": "stream",
          "name": "stdout",
          "text": [
            "Mounted at /content/drive\n"
          ]
        }
      ]
    },
    {
      "cell_type": "code",
      "execution_count": null,
      "metadata": {
        "collapsed": true,
        "id": "QVz31UlYao40",
        "outputId": "6f2bf8e1-514d-49aa-9ca5-c5cb947caf4f",
        "colab": {
          "base_uri": "https://localhost:8080/"
        }
      },
      "outputs": [
        {
          "output_type": "stream",
          "name": "stdout",
          "text": [
            "Requirement already satisfied: pandas in /usr/local/lib/python3.11/dist-packages (2.2.2)\n",
            "Requirement already satisfied: numpy>=1.23.2 in /usr/local/lib/python3.11/dist-packages (from pandas) (1.26.4)\n",
            "Requirement already satisfied: python-dateutil>=2.8.2 in /usr/local/lib/python3.11/dist-packages (from pandas) (2.8.2)\n",
            "Requirement already satisfied: pytz>=2020.1 in /usr/local/lib/python3.11/dist-packages (from pandas) (2024.2)\n",
            "Requirement already satisfied: tzdata>=2022.7 in /usr/local/lib/python3.11/dist-packages (from pandas) (2024.2)\n",
            "Requirement already satisfied: six>=1.5 in /usr/local/lib/python3.11/dist-packages (from python-dateutil>=2.8.2->pandas) (1.17.0)\n",
            "\u001b[2K   \u001b[90m━━━━━━━━━━━━━━━━━━━━━━━━━━━━━━━━━━━━━━━━\u001b[0m \u001b[32m5.0/5.0 MB\u001b[0m \u001b[31m49.4 MB/s\u001b[0m eta \u001b[36m0:00:00\u001b[0m\n",
            "\u001b[2K   \u001b[90m━━━━━━━━━━━━━━━━━━━━━━━━━━━━━━━━━━━━━━━━\u001b[0m \u001b[32m813.6/813.6 kB\u001b[0m \u001b[31m37.2 MB/s\u001b[0m eta \u001b[36m0:00:00\u001b[0m\n",
            "\u001b[2K   \u001b[90m━━━━━━━━━━━━━━━━━━━━━━━━━━━━━━━━━━━━━━━━\u001b[0m \u001b[32m49.6/49.6 kB\u001b[0m \u001b[31m3.1 MB/s\u001b[0m eta \u001b[36m0:00:00\u001b[0m\n",
            "\u001b[2K   \u001b[90m━━━━━━━━━━━━━━━━━━━━━━━━━━━━━━━━━━━━━━━━\u001b[0m \u001b[32m12.2/12.2 MB\u001b[0m \u001b[31m82.1 MB/s\u001b[0m eta \u001b[36m0:00:00\u001b[0m\n",
            "\u001b[2K   \u001b[90m━━━━━━━━━━━━━━━━━━━━━━━━━━━━━━━━━━━━━━━━\u001b[0m \u001b[32m64.7/64.7 kB\u001b[0m \u001b[31m3.8 MB/s\u001b[0m eta \u001b[36m0:00:00\u001b[0m\n",
            "\u001b[2K   \u001b[90m━━━━━━━━━━━━━━━━━━━━━━━━━━━━━━━━━━━━━━━━\u001b[0m \u001b[32m117.7/117.7 kB\u001b[0m \u001b[31m7.8 MB/s\u001b[0m eta \u001b[36m0:00:00\u001b[0m\n",
            "\u001b[2K   \u001b[90m━━━━━━━━━━━━━━━━━━━━━━━━━━━━━━━━━━━━━━━━\u001b[0m \u001b[32m739.1/739.1 kB\u001b[0m \u001b[31m34.8 MB/s\u001b[0m eta \u001b[36m0:00:00\u001b[0m\n",
            "\u001b[?25h\u001b[31mERROR: pip's dependency resolver does not currently take into account all the packages that are installed. This behaviour is the source of the following dependency conflicts.\n",
            "google-colab 1.0.0 requires pandas==2.2.2, but you have pandas 2.1.4 which is incompatible.\n",
            "mizani 0.13.1 requires pandas>=2.2.0, but you have pandas 2.1.4 which is incompatible.\n",
            "plotnine 0.14.5 requires pandas>=2.2.0, but you have pandas 2.1.4 which is incompatible.\u001b[0m\u001b[31m\n",
            "\u001b[0m"
          ]
        }
      ],
      "source": [
        "!rm -rf gx # Remove any existing gx directory to ensure a clean slate for Great Expectations setup.\n",
        "!pip install pandas # Install the required Python panda library\n",
        "!pip install great_expectations -q # Install the required Python Great Expectations library"
      ]
    },
    {
      "cell_type": "markdown",
      "source": [
        "\n",
        "\n",
        "* Importing great_expectations for setting up data validation and checkpoints.\n",
        "* Importing pandas for handling and processing data.\n",
        "\n",
        "\n",
        "\n",
        "\n"
      ],
      "metadata": {
        "id": "jPEbLljLOVgJ"
      }
    },
    {
      "cell_type": "code",
      "source": [
        "import great_expectations as gx\n",
        "from great_expectations.data_context.types.base import DataContextConfig\n",
        "from great_expectations.checkpoint import CheckpointResult\n",
        "\n",
        "import pandas as pd"
      ],
      "metadata": {
        "id": "HiTVaTLYcigs"
      },
      "execution_count": null,
      "outputs": []
    },
    {
      "cell_type": "markdown",
      "source": [
        "Reading the Citibike trip data CSV file"
      ],
      "metadata": {
        "id": "xvV9nkPOOqKn"
      }
    },
    {
      "cell_type": "code",
      "source": [
        "citibike1=pd.read_csv(\"/content/drive/MyDrive/202412-citibike-tripdata/202412-citibike-tripdata_1.csv\")"
      ],
      "metadata": {
        "id": "MNDA5pnhc85-",
        "outputId": "afc6abe6-c885-4a7f-c618-3f85c287f13d",
        "colab": {
          "base_uri": "https://localhost:8080/"
        }
      },
      "execution_count": null,
      "outputs": [
        {
          "output_type": "stream",
          "name": "stderr",
          "text": [
            "<ipython-input-4-c29a042a9f9c>:1: DtypeWarning: Columns (5,7) have mixed types. Specify dtype option on import or set low_memory=False.\n",
            "  citibike1=pd.read_csv(\"/content/drive/MyDrive/202412-citibike-tripdata/202412-citibike-tripdata_1.csv\")\n"
          ]
        }
      ]
    },
    {
      "cell_type": "markdown",
      "source": [
        "Loading the read CSV file in Pandas DataFrame by nam df"
      ],
      "metadata": {
        "id": "ao_zME8cOw_M"
      }
    },
    {
      "cell_type": "code",
      "source": [
        "df=pd.DataFrame(citibike1)"
      ],
      "metadata": {
        "id": "ErfdI1vgezPH"
      },
      "execution_count": null,
      "outputs": []
    },
    {
      "cell_type": "markdown",
      "source": [
        "Converting start_station_id and end_station_id into str for better processing"
      ],
      "metadata": {
        "id": "d1SHAtbNO4cR"
      }
    },
    {
      "cell_type": "code",
      "source": [
        "citibike1['start_station_id'] = citibike1['start_station_id'].astype(str)\n",
        "citibike1['end_station_id'] = citibike1['end_station_id'].astype(str)\n"
      ],
      "metadata": {
        "id": "Py0EAUBxuBo9"
      },
      "execution_count": null,
      "outputs": []
    },
    {
      "cell_type": "markdown",
      "source": [
        "Setting the Great Expectations context in file mode."
      ],
      "metadata": {
        "id": "UZZyUJtYPF1L"
      }
    },
    {
      "cell_type": "code",
      "source": [
        "context = gx.get_context(mode=\"file\")"
      ],
      "metadata": {
        "id": "VcbVBWZdiVI1"
      },
      "execution_count": null,
      "outputs": []
    },
    {
      "cell_type": "code",
      "source": [
        "data_source_name=\"my_data_source\"\n",
        "data_source=context.data_sources.add_pandas(name=data_source_name) # Making a new Pandas data source for Great Expectations.\n",
        "\n",
        "data_asset_name = \"my_dataframe_data_asset\"\n",
        "data_asset = data_source.add_dataframe_asset(name=data_asset_name) # Making a data asset for the DataFrame to do validation."
      ],
      "metadata": {
        "id": "SLgEtBoSjQk_"
      },
      "execution_count": null,
      "outputs": []
    },
    {
      "cell_type": "markdown",
      "source": [
        "Making a batch that includes the entire DataFrame for validation."
      ],
      "metadata": {
        "id": "r9YWshJBPtAQ"
      }
    },
    {
      "cell_type": "code",
      "source": [
        "batch_definition=data_asset.add_batch_definition_whole_dataframe(\"my batch definition\")\n",
        "my_batch_parameter = {\"dataframe\":df}\n",
        "my_batch=batch_definition.get_batch(my_batch_parameter)"
      ],
      "metadata": {
        "collapsed": true,
        "id": "7bgWQM7nlGDG"
      },
      "execution_count": null,
      "outputs": []
    },
    {
      "cell_type": "markdown",
      "source": [
        "Making a suite that will store all expectations to do validation"
      ],
      "metadata": {
        "id": "VvT9NFZ5Pytl"
      }
    },
    {
      "cell_type": "code",
      "source": [
        "my_suite_name=\"my_suite\"\n",
        "suite=gx.ExpectationSuite(name=my_suite_name)\n"
      ],
      "metadata": {
        "id": "cg8G5JsnmoSF"
      },
      "execution_count": null,
      "outputs": []
    },
    {
      "cell_type": "code",
      "source": [
        "\n",
        "suite=context.suites.add(suite)\n"
      ],
      "metadata": {
        "id": "iJFVkpBBzzKY"
      },
      "execution_count": null,
      "outputs": []
    },
    {
      "cell_type": "code",
      "source": [
        "expectation1=gx.expectations.ExpectColumnValuesToBeOfType(\n",
        "    column=\"ride_id\",\n",
        "    type_=\"str\"\n",
        ") # making an expectation to check the if the datatype of ride_id is str or not\n",
        "\n",
        "expectation2=gx.expectations.ExpectColumnValuesToBeOfType(\n",
        "    column=\"started_at\",\n",
        "    type_=\"str\"\n",
        ")  # making an expectation to check the if the datatype of started_at is str or not\n",
        "\n",
        "expectation3=gx.expectations.ExpectColumnValuesToBeOfType(\n",
        "    column=\"ended_at\",\n",
        "    type_=\"str\"\n",
        ")   # making an expectation to check the if the datatype of ended_at is str or not\n",
        "\n",
        "expectation4=gx.expectations.ExpectColumnValuesToBeOfType(\n",
        "    column=\"start_station_name\",\n",
        "    type_=\"str\"\n",
        ")   # making an expectation to check the if the datatype of start_station_name is str or not\n",
        "\n",
        "expectation5=gx.expectations.ExpectColumnValuesToBeOfType(\n",
        "    column=\"start_station_id\",\n",
        "    type_=\"str\"\n",
        ")  # making an expectation to check the if the datatype of start_station_id is str or not\n",
        "\n",
        "expectation6=gx.expectations.ExpectColumnValuesToBeOfType(\n",
        "    column=\"end_station_name\",\n",
        "    type_=\"str\"\n",
        ")  # making an expectation to check the if the datatype of end_station_name is str or not\n",
        "\n",
        "expectation7=gx.expectations.ExpectColumnValuesToBeOfType(\n",
        "    column=\"end_station_id\",\n",
        "    type_=\"str\"\n",
        ") # making an expectation to check the if the datatype of end_station_id is str or not\n",
        "\n",
        "expectation8=gx.expectations.ExpectColumnValuesToBeInSet(\n",
        "    column=\"rideable_type\",\n",
        "    value_set=[\"classic_bike\",\"electric_bike\"]\n",
        ")  # making an expectation to check the if the datatype of rideable_type is categorical or not i.e. whether it contains only a certain values or not\n",
        "\n",
        "expectation9=gx.expectations.ExpectColumnValuesToBeInSet(\n",
        "    column=\"member_casual\",\n",
        "    value_set=[\"member\",\"casual\"]\n",
        ")   # making an expectation to check the if the datatype of member_casual is categorical or not i.e. whether it contains only a certain values or not\n",
        "\n",
        "expectation10 = gx.expectations.ExpectColumnValuesToBeBetween(\n",
        "    column=\"start_lat\",\n",
        "    min_value = -90,\n",
        "    max_value = 90\n",
        ") # If all the values lie in this given range we will know that the datatype is float\n",
        "\n",
        "\n",
        "expectation11 = gx.expectations.ExpectColumnValuesToBeBetween(\n",
        "    column=\"start_lng\",\n",
        "    min_value = -180,\n",
        "    max_value = 180\n",
        ")  # If all the values lie in this given range we will know that the datatype is float\n",
        "\n",
        "expectation12 = gx.expectations.ExpectColumnValuesToBeBetween(\n",
        "    column=\"end_lat\",\n",
        "    min_value = -90,\n",
        "    max_value = 90\n",
        ") # If all the values lie in this given range we will know that the datatype is float\n",
        "\n",
        "expectation13 = gx.expectations.ExpectColumnValuesToBeBetween(\n",
        "    column=\"end_lng\",\n",
        "    min_value = -180,\n",
        "    max_value = 180\n",
        ") # If all the values lie in this given range we will know that the datatype is float\n"
      ],
      "metadata": {
        "collapsed": true,
        "id": "z3ZgGTuFn23s"
      },
      "execution_count": null,
      "outputs": []
    },
    {
      "cell_type": "markdown",
      "source": [
        "Adding all expectations defined above in the suite to perform validation"
      ],
      "metadata": {
        "id": "nHs3tseKRLes"
      }
    },
    {
      "cell_type": "code",
      "source": [
        "suite.add_expectation(expectation1)\n",
        "suite.add_expectation(expectation2)\n",
        "suite.add_expectation(expectation3)\n",
        "suite.add_expectation(expectation4)\n",
        "suite.add_expectation(expectation5)\n",
        "suite.add_expectation(expectation6)\n",
        "suite.add_expectation(expectation7)\n",
        "suite.add_expectation(expectation8)\n",
        "suite.add_expectation(expectation9)\n",
        "suite.add_expectation(expectation10)\n",
        "suite.add_expectation(expectation11)\n",
        "suite.add_expectation(expectation12)\n",
        "suite.add_expectation(expectation13)"
      ],
      "metadata": {
        "id": "yzGoLhpDrBlA",
        "outputId": "45cc5a4a-50bb-4b05-9fbd-508b75e007e5",
        "colab": {
          "base_uri": "https://localhost:8080/"
        }
      },
      "execution_count": null,
      "outputs": [
        {
          "output_type": "execute_result",
          "data": {
            "text/plain": [
              "ExpectColumnValuesToBeBetween(id='0ce15c46-e87e-47e5-83a4-bfd3c648babf', meta=None, notes=None, result_format=<ResultFormat.BASIC: 'BASIC'>, description=None, catch_exceptions=True, rendered_content=None, windows=None, batch_id=None, column='end_lng', mostly=1, row_condition=None, condition_parser=None, min_value=-180.0, max_value=180.0, strict_min=False, strict_max=False)"
            ]
          },
          "metadata": {},
          "execution_count": 13
        }
      ]
    },
    {
      "cell_type": "markdown",
      "source": [
        "Making a validation_definition that joins the data batch and expectation suite."
      ],
      "metadata": {
        "id": "AXglM9LyRVnH"
      }
    },
    {
      "cell_type": "code",
      "source": [
        "definition_name=\"my_validation_definition1\"\n",
        "validation_definition=gx.ValidationDefinition(\n",
        "    data=batch_definition,suite=suite,name=definition_name\n",
        ")\n"
      ],
      "metadata": {
        "id": "_hVYMETXtWSL"
      },
      "execution_count": null,
      "outputs": []
    },
    {
      "cell_type": "markdown",
      "source": [
        "Include the validation_definition to the Great Expectation defined above"
      ],
      "metadata": {
        "id": "OQh1ROH2RgsR"
      }
    },
    {
      "cell_type": "code",
      "source": [
        "validation_definition = context.validation_definitions.add(validation_definition)"
      ],
      "metadata": {
        "collapsed": true,
        "id": "FlGqpRGlsfky"
      },
      "execution_count": null,
      "outputs": []
    },
    {
      "cell_type": "markdown",
      "source": [
        "Finally doing validation and printing its results"
      ],
      "metadata": {
        "id": "kG4J1DoLRqRx"
      }
    },
    {
      "cell_type": "code",
      "source": [
        "validation_definition_name = \"my_validation_definition1\"\n",
        "validation_definition = context.validation_definitions.get(validation_definition_name)\n",
        "\n",
        "validation_results = validation_definition.run(batch_parameters=my_batch_parameter)\n",
        "print(validation_results)"
      ],
      "metadata": {
        "id": "hUTPSa-iuOLo",
        "outputId": "e0966b47-98fa-4b58-e903-422086b174e6",
        "colab": {
          "base_uri": "https://localhost:8080/",
          "height": 1000,
          "referenced_widgets": [
            "cb0f785ad80c4e43a146a34966b18259",
            "a82a90d906414fd190646d95725322dc",
            "383f03b7444046bfb73d0d5251060c5f",
            "78dde5da6c524e85b01a2bda98719cd6",
            "f2d4c38b9afd466582034850d95fc77a",
            "41ea1360f9a346d58a0da876b3af26c1",
            "430c92b6222c46c1b869110e091ac1ed",
            "8a734278982a4f80918e7a85784e7f72",
            "4cd0b3a4928649fd8399a5ccf0fc4e30",
            "edf7d207b7d747e7af6d86ec0949a608",
            "fbb845e3459e447aaec5e1cbfe2bf920"
          ]
        },
        "collapsed": true
      },
      "execution_count": null,
      "outputs": [
        {
          "output_type": "display_data",
          "data": {
            "text/plain": [
              "Calculating Metrics:   0%|          | 0/97 [00:00<?, ?it/s]"
            ],
            "application/vnd.jupyter.widget-view+json": {
              "version_major": 2,
              "version_minor": 0,
              "model_id": "cb0f785ad80c4e43a146a34966b18259"
            }
          },
          "metadata": {}
        },
        {
          "output_type": "stream",
          "name": "stdout",
          "text": [
            "{\n",
            "  \"success\": false,\n",
            "  \"results\": [\n",
            "    {\n",
            "      \"success\": true,\n",
            "      \"expectation_config\": {\n",
            "        \"type\": \"expect_column_values_to_be_of_type\",\n",
            "        \"kwargs\": {\n",
            "          \"batch_id\": \"my_data_source-my_dataframe_data_asset\",\n",
            "          \"column\": \"ride_id\",\n",
            "          \"type_\": \"str\"\n",
            "        },\n",
            "        \"meta\": {},\n",
            "        \"id\": \"c1d2248f-1e7e-4231-a063-55b5775acb70\"\n",
            "      },\n",
            "      \"result\": {\n",
            "        \"element_count\": 1000000,\n",
            "        \"unexpected_count\": 0,\n",
            "        \"unexpected_percent\": 0.0,\n",
            "        \"partial_unexpected_list\": [],\n",
            "        \"missing_count\": 0,\n",
            "        \"missing_percent\": 0.0,\n",
            "        \"unexpected_percent_total\": 0.0,\n",
            "        \"unexpected_percent_nonmissing\": 0.0,\n",
            "        \"partial_unexpected_counts\": [],\n",
            "        \"partial_unexpected_index_list\": []\n",
            "      },\n",
            "      \"meta\": {},\n",
            "      \"exception_info\": {\n",
            "        \"raised_exception\": false,\n",
            "        \"exception_traceback\": null,\n",
            "        \"exception_message\": null\n",
            "      }\n",
            "    },\n",
            "    {\n",
            "      \"success\": true,\n",
            "      \"expectation_config\": {\n",
            "        \"type\": \"expect_column_values_to_be_of_type\",\n",
            "        \"kwargs\": {\n",
            "          \"batch_id\": \"my_data_source-my_dataframe_data_asset\",\n",
            "          \"column\": \"started_at\",\n",
            "          \"type_\": \"str\"\n",
            "        },\n",
            "        \"meta\": {},\n",
            "        \"id\": \"4174057f-591c-4fba-b267-cc8bad6cc2cd\"\n",
            "      },\n",
            "      \"result\": {\n",
            "        \"element_count\": 1000000,\n",
            "        \"unexpected_count\": 0,\n",
            "        \"unexpected_percent\": 0.0,\n",
            "        \"partial_unexpected_list\": [],\n",
            "        \"missing_count\": 0,\n",
            "        \"missing_percent\": 0.0,\n",
            "        \"unexpected_percent_total\": 0.0,\n",
            "        \"unexpected_percent_nonmissing\": 0.0,\n",
            "        \"partial_unexpected_counts\": [],\n",
            "        \"partial_unexpected_index_list\": []\n",
            "      },\n",
            "      \"meta\": {},\n",
            "      \"exception_info\": {\n",
            "        \"raised_exception\": false,\n",
            "        \"exception_traceback\": null,\n",
            "        \"exception_message\": null\n",
            "      }\n",
            "    },\n",
            "    {\n",
            "      \"success\": true,\n",
            "      \"expectation_config\": {\n",
            "        \"type\": \"expect_column_values_to_be_of_type\",\n",
            "        \"kwargs\": {\n",
            "          \"batch_id\": \"my_data_source-my_dataframe_data_asset\",\n",
            "          \"column\": \"ended_at\",\n",
            "          \"type_\": \"str\"\n",
            "        },\n",
            "        \"meta\": {},\n",
            "        \"id\": \"3bc83adf-7a6b-4937-9a4e-43ed8dc8c56c\"\n",
            "      },\n",
            "      \"result\": {\n",
            "        \"element_count\": 1000000,\n",
            "        \"unexpected_count\": 0,\n",
            "        \"unexpected_percent\": 0.0,\n",
            "        \"partial_unexpected_list\": [],\n",
            "        \"missing_count\": 0,\n",
            "        \"missing_percent\": 0.0,\n",
            "        \"unexpected_percent_total\": 0.0,\n",
            "        \"unexpected_percent_nonmissing\": 0.0,\n",
            "        \"partial_unexpected_counts\": [],\n",
            "        \"partial_unexpected_index_list\": []\n",
            "      },\n",
            "      \"meta\": {},\n",
            "      \"exception_info\": {\n",
            "        \"raised_exception\": false,\n",
            "        \"exception_traceback\": null,\n",
            "        \"exception_message\": null\n",
            "      }\n",
            "    },\n",
            "    {\n",
            "      \"success\": true,\n",
            "      \"expectation_config\": {\n",
            "        \"type\": \"expect_column_values_to_be_of_type\",\n",
            "        \"kwargs\": {\n",
            "          \"batch_id\": \"my_data_source-my_dataframe_data_asset\",\n",
            "          \"column\": \"start_station_name\",\n",
            "          \"type_\": \"str\"\n",
            "        },\n",
            "        \"meta\": {},\n",
            "        \"id\": \"2c1467d7-6e00-47a9-a87b-2c1cea3e997c\"\n",
            "      },\n",
            "      \"result\": {\n",
            "        \"element_count\": 1000000,\n",
            "        \"unexpected_count\": 0,\n",
            "        \"unexpected_percent\": 0.0,\n",
            "        \"partial_unexpected_list\": [],\n",
            "        \"missing_count\": 625,\n",
            "        \"missing_percent\": 0.0625,\n",
            "        \"unexpected_percent_total\": 0.0,\n",
            "        \"unexpected_percent_nonmissing\": 0.0,\n",
            "        \"partial_unexpected_counts\": [],\n",
            "        \"partial_unexpected_index_list\": []\n",
            "      },\n",
            "      \"meta\": {},\n",
            "      \"exception_info\": {\n",
            "        \"raised_exception\": false,\n",
            "        \"exception_traceback\": null,\n",
            "        \"exception_message\": null\n",
            "      }\n",
            "    },\n",
            "    {\n",
            "      \"success\": false,\n",
            "      \"expectation_config\": {\n",
            "        \"type\": \"expect_column_values_to_be_of_type\",\n",
            "        \"kwargs\": {\n",
            "          \"batch_id\": \"my_data_source-my_dataframe_data_asset\",\n",
            "          \"column\": \"start_station_id\",\n",
            "          \"type_\": \"str\"\n",
            "        },\n",
            "        \"meta\": {},\n",
            "        \"id\": \"63112c1d-e7f7-4352-b45e-8f41a63dd6c8\"\n",
            "      },\n",
            "      \"result\": {\n",
            "        \"element_count\": 1000000,\n",
            "        \"unexpected_count\": 16954,\n",
            "        \"unexpected_percent\": 1.6964602876797998,\n",
            "        \"partial_unexpected_list\": [\n",
            "          6257.06,\n",
            "          6667.04,\n",
            "          6847.02,\n",
            "          3919.07,\n",
            "          3919.07,\n",
            "          6064.08,\n",
            "          6667.04,\n",
            "          5430.08,\n",
            "          5730.08,\n",
            "          6847.02,\n",
            "          6816.07,\n",
            "          6517.08,\n",
            "          6517.08,\n",
            "          6517.08,\n",
            "          4116.09,\n",
            "          4116.09,\n",
            "          6847.02,\n",
            "          6847.02,\n",
            "          6667.04,\n",
            "          6816.07\n",
            "        ],\n",
            "        \"missing_count\": 625,\n",
            "        \"missing_percent\": 0.0625,\n",
            "        \"unexpected_percent_total\": 1.6954,\n",
            "        \"unexpected_percent_nonmissing\": 1.6964602876797998,\n",
            "        \"partial_unexpected_counts\": [\n",
            "          {\n",
            "            \"value\": 6847.02,\n",
            "            \"count\": 4\n",
            "          },\n",
            "          {\n",
            "            \"value\": 6517.08,\n",
            "            \"count\": 3\n",
            "          },\n",
            "          {\n",
            "            \"value\": 6667.04,\n",
            "            \"count\": 3\n",
            "          },\n",
            "          {\n",
            "            \"value\": 3919.07,\n",
            "            \"count\": 2\n",
            "          },\n",
            "          {\n",
            "            \"value\": 4116.09,\n",
            "            \"count\": 2\n",
            "          },\n",
            "          {\n",
            "            \"value\": 6816.07,\n",
            "            \"count\": 2\n",
            "          },\n",
            "          {\n",
            "            \"value\": 5430.08,\n",
            "            \"count\": 1\n",
            "          },\n",
            "          {\n",
            "            \"value\": 5730.08,\n",
            "            \"count\": 1\n",
            "          },\n",
            "          {\n",
            "            \"value\": 6064.08,\n",
            "            \"count\": 1\n",
            "          },\n",
            "          {\n",
            "            \"value\": 6257.06,\n",
            "            \"count\": 1\n",
            "          }\n",
            "        ],\n",
            "        \"partial_unexpected_index_list\": [\n",
            "          983040,\n",
            "          983041,\n",
            "          983042,\n",
            "          983043,\n",
            "          983044,\n",
            "          983045,\n",
            "          983046,\n",
            "          983047,\n",
            "          983048,\n",
            "          983049,\n",
            "          983050,\n",
            "          983051,\n",
            "          983052,\n",
            "          983053,\n",
            "          983054,\n",
            "          983055,\n",
            "          983056,\n",
            "          983057,\n",
            "          983058,\n",
            "          983059\n",
            "        ]\n",
            "      },\n",
            "      \"meta\": {},\n",
            "      \"exception_info\": {\n",
            "        \"raised_exception\": false,\n",
            "        \"exception_traceback\": null,\n",
            "        \"exception_message\": null\n",
            "      }\n",
            "    },\n",
            "    {\n",
            "      \"success\": true,\n",
            "      \"expectation_config\": {\n",
            "        \"type\": \"expect_column_values_to_be_of_type\",\n",
            "        \"kwargs\": {\n",
            "          \"batch_id\": \"my_data_source-my_dataframe_data_asset\",\n",
            "          \"column\": \"end_station_name\",\n",
            "          \"type_\": \"str\"\n",
            "        },\n",
            "        \"meta\": {},\n",
            "        \"id\": \"0a578da3-8411-4005-9700-63281de7c1b5\"\n",
            "      },\n",
            "      \"result\": {\n",
            "        \"element_count\": 1000000,\n",
            "        \"unexpected_count\": 0,\n",
            "        \"unexpected_percent\": 0.0,\n",
            "        \"partial_unexpected_list\": [],\n",
            "        \"missing_count\": 3583,\n",
            "        \"missing_percent\": 0.3583,\n",
            "        \"unexpected_percent_total\": 0.0,\n",
            "        \"unexpected_percent_nonmissing\": 0.0,\n",
            "        \"partial_unexpected_counts\": [],\n",
            "        \"partial_unexpected_index_list\": []\n",
            "      },\n",
            "      \"meta\": {},\n",
            "      \"exception_info\": {\n",
            "        \"raised_exception\": false,\n",
            "        \"exception_traceback\": null,\n",
            "        \"exception_message\": null\n",
            "      }\n",
            "    },\n",
            "    {\n",
            "      \"success\": false,\n",
            "      \"expectation_config\": {\n",
            "        \"type\": \"expect_column_values_to_be_of_type\",\n",
            "        \"kwargs\": {\n",
            "          \"batch_id\": \"my_data_source-my_dataframe_data_asset\",\n",
            "          \"column\": \"end_station_id\",\n",
            "          \"type_\": \"str\"\n",
            "        },\n",
            "        \"meta\": {},\n",
            "        \"id\": \"044896f7-1b7e-404c-be12-474beb34fead\"\n",
            "      },\n",
            "      \"result\": {\n",
            "        \"element_count\": 1000000,\n",
            "        \"unexpected_count\": 145412,\n",
            "        \"unexpected_percent\": 14.606564375580724,\n",
            "        \"partial_unexpected_list\": [\n",
            "          5553.03,\n",
            "          5838.09,\n",
            "          6123.02,\n",
            "          6046.02,\n",
            "          6046.02,\n",
            "          6046.02,\n",
            "          6046.02,\n",
            "          6283.05,\n",
            "          6283.05,\n",
            "          6046.02,\n",
            "          6046.02,\n",
            "          3996.01,\n",
            "          6046.02,\n",
            "          4861.05,\n",
            "          4098.06,\n",
            "          6283.05,\n",
            "          5553.03,\n",
            "          5838.09,\n",
            "          4098.06,\n",
            "          4330.09\n",
            "        ],\n",
            "        \"missing_count\": 4475,\n",
            "        \"missing_percent\": 0.4475,\n",
            "        \"unexpected_percent_total\": 14.541200000000002,\n",
            "        \"unexpected_percent_nonmissing\": 14.606564375580724,\n",
            "        \"partial_unexpected_counts\": [\n",
            "          {\n",
            "            \"value\": 6046.02,\n",
            "            \"count\": 7\n",
            "          },\n",
            "          {\n",
            "            \"value\": 6283.05,\n",
            "            \"count\": 3\n",
            "          },\n",
            "          {\n",
            "            \"value\": 4098.06,\n",
            "            \"count\": 2\n",
            "          },\n",
            "          {\n",
            "            \"value\": 5553.03,\n",
            "            \"count\": 2\n",
            "          },\n",
            "          {\n",
            "            \"value\": 5838.09,\n",
            "            \"count\": 2\n",
            "          },\n",
            "          {\n",
            "            \"value\": 3996.01,\n",
            "            \"count\": 1\n",
            "          },\n",
            "          {\n",
            "            \"value\": 4330.09,\n",
            "            \"count\": 1\n",
            "          },\n",
            "          {\n",
            "            \"value\": 4861.05,\n",
            "            \"count\": 1\n",
            "          },\n",
            "          {\n",
            "            \"value\": 6123.02,\n",
            "            \"count\": 1\n",
            "          }\n",
            "        ],\n",
            "        \"partial_unexpected_index_list\": [\n",
            "          262144,\n",
            "          262145,\n",
            "          262146,\n",
            "          262147,\n",
            "          262148,\n",
            "          262149,\n",
            "          262150,\n",
            "          262151,\n",
            "          262152,\n",
            "          262153,\n",
            "          262154,\n",
            "          262155,\n",
            "          262156,\n",
            "          262157,\n",
            "          262158,\n",
            "          262159,\n",
            "          262160,\n",
            "          262161,\n",
            "          262162,\n",
            "          262163\n",
            "        ]\n",
            "      },\n",
            "      \"meta\": {},\n",
            "      \"exception_info\": {\n",
            "        \"raised_exception\": false,\n",
            "        \"exception_traceback\": null,\n",
            "        \"exception_message\": null\n",
            "      }\n",
            "    },\n",
            "    {\n",
            "      \"success\": true,\n",
            "      \"expectation_config\": {\n",
            "        \"type\": \"expect_column_values_to_be_in_set\",\n",
            "        \"kwargs\": {\n",
            "          \"batch_id\": \"my_data_source-my_dataframe_data_asset\",\n",
            "          \"column\": \"rideable_type\",\n",
            "          \"value_set\": [\n",
            "            \"classic_bike\",\n",
            "            \"electric_bike\"\n",
            "          ]\n",
            "        },\n",
            "        \"meta\": {},\n",
            "        \"id\": \"319e5158-7586-4480-95c4-51ca1b8fac93\"\n",
            "      },\n",
            "      \"result\": {\n",
            "        \"element_count\": 1000000,\n",
            "        \"unexpected_count\": 0,\n",
            "        \"unexpected_percent\": 0.0,\n",
            "        \"partial_unexpected_list\": [],\n",
            "        \"missing_count\": 0,\n",
            "        \"missing_percent\": 0.0,\n",
            "        \"unexpected_percent_total\": 0.0,\n",
            "        \"unexpected_percent_nonmissing\": 0.0,\n",
            "        \"partial_unexpected_counts\": [],\n",
            "        \"partial_unexpected_index_list\": []\n",
            "      },\n",
            "      \"meta\": {},\n",
            "      \"exception_info\": {\n",
            "        \"raised_exception\": false,\n",
            "        \"exception_traceback\": null,\n",
            "        \"exception_message\": null\n",
            "      }\n",
            "    },\n",
            "    {\n",
            "      \"success\": true,\n",
            "      \"expectation_config\": {\n",
            "        \"type\": \"expect_column_values_to_be_in_set\",\n",
            "        \"kwargs\": {\n",
            "          \"batch_id\": \"my_data_source-my_dataframe_data_asset\",\n",
            "          \"column\": \"member_casual\",\n",
            "          \"value_set\": [\n",
            "            \"member\",\n",
            "            \"casual\"\n",
            "          ]\n",
            "        },\n",
            "        \"meta\": {},\n",
            "        \"id\": \"a620cf59-47c9-4852-8ea7-093113603f84\"\n",
            "      },\n",
            "      \"result\": {\n",
            "        \"element_count\": 1000000,\n",
            "        \"unexpected_count\": 0,\n",
            "        \"unexpected_percent\": 0.0,\n",
            "        \"partial_unexpected_list\": [],\n",
            "        \"missing_count\": 0,\n",
            "        \"missing_percent\": 0.0,\n",
            "        \"unexpected_percent_total\": 0.0,\n",
            "        \"unexpected_percent_nonmissing\": 0.0,\n",
            "        \"partial_unexpected_counts\": [],\n",
            "        \"partial_unexpected_index_list\": []\n",
            "      },\n",
            "      \"meta\": {},\n",
            "      \"exception_info\": {\n",
            "        \"raised_exception\": false,\n",
            "        \"exception_traceback\": null,\n",
            "        \"exception_message\": null\n",
            "      }\n",
            "    },\n",
            "    {\n",
            "      \"success\": true,\n",
            "      \"expectation_config\": {\n",
            "        \"type\": \"expect_column_values_to_be_between\",\n",
            "        \"kwargs\": {\n",
            "          \"batch_id\": \"my_data_source-my_dataframe_data_asset\",\n",
            "          \"column\": \"start_lat\",\n",
            "          \"min_value\": -90.0,\n",
            "          \"max_value\": 90.0\n",
            "        },\n",
            "        \"meta\": {},\n",
            "        \"id\": \"a2606587-8bb6-4801-8248-2e6eb44fd621\"\n",
            "      },\n",
            "      \"result\": {\n",
            "        \"element_count\": 1000000,\n",
            "        \"unexpected_count\": 0,\n",
            "        \"unexpected_percent\": 0.0,\n",
            "        \"partial_unexpected_list\": [],\n",
            "        \"missing_count\": 0,\n",
            "        \"missing_percent\": 0.0,\n",
            "        \"unexpected_percent_total\": 0.0,\n",
            "        \"unexpected_percent_nonmissing\": 0.0,\n",
            "        \"partial_unexpected_counts\": [],\n",
            "        \"partial_unexpected_index_list\": []\n",
            "      },\n",
            "      \"meta\": {},\n",
            "      \"exception_info\": {\n",
            "        \"raised_exception\": false,\n",
            "        \"exception_traceback\": null,\n",
            "        \"exception_message\": null\n",
            "      }\n",
            "    },\n",
            "    {\n",
            "      \"success\": true,\n",
            "      \"expectation_config\": {\n",
            "        \"type\": \"expect_column_values_to_be_between\",\n",
            "        \"kwargs\": {\n",
            "          \"batch_id\": \"my_data_source-my_dataframe_data_asset\",\n",
            "          \"column\": \"start_lng\",\n",
            "          \"min_value\": -180.0,\n",
            "          \"max_value\": 180.0\n",
            "        },\n",
            "        \"meta\": {},\n",
            "        \"id\": \"ac935dab-dc82-4940-bba3-0ad44dc27025\"\n",
            "      },\n",
            "      \"result\": {\n",
            "        \"element_count\": 1000000,\n",
            "        \"unexpected_count\": 0,\n",
            "        \"unexpected_percent\": 0.0,\n",
            "        \"partial_unexpected_list\": [],\n",
            "        \"missing_count\": 0,\n",
            "        \"missing_percent\": 0.0,\n",
            "        \"unexpected_percent_total\": 0.0,\n",
            "        \"unexpected_percent_nonmissing\": 0.0,\n",
            "        \"partial_unexpected_counts\": [],\n",
            "        \"partial_unexpected_index_list\": []\n",
            "      },\n",
            "      \"meta\": {},\n",
            "      \"exception_info\": {\n",
            "        \"raised_exception\": false,\n",
            "        \"exception_traceback\": null,\n",
            "        \"exception_message\": null\n",
            "      }\n",
            "    },\n",
            "    {\n",
            "      \"success\": true,\n",
            "      \"expectation_config\": {\n",
            "        \"type\": \"expect_column_values_to_be_between\",\n",
            "        \"kwargs\": {\n",
            "          \"batch_id\": \"my_data_source-my_dataframe_data_asset\",\n",
            "          \"column\": \"end_lat\",\n",
            "          \"min_value\": -90.0,\n",
            "          \"max_value\": 90.0\n",
            "        },\n",
            "        \"meta\": {},\n",
            "        \"id\": \"f8bdb135-5bb3-4fca-a769-6910905b3756\"\n",
            "      },\n",
            "      \"result\": {\n",
            "        \"element_count\": 1000000,\n",
            "        \"unexpected_count\": 0,\n",
            "        \"unexpected_percent\": 0.0,\n",
            "        \"partial_unexpected_list\": [],\n",
            "        \"missing_count\": 205,\n",
            "        \"missing_percent\": 0.0205,\n",
            "        \"unexpected_percent_total\": 0.0,\n",
            "        \"unexpected_percent_nonmissing\": 0.0,\n",
            "        \"partial_unexpected_counts\": [],\n",
            "        \"partial_unexpected_index_list\": []\n",
            "      },\n",
            "      \"meta\": {},\n",
            "      \"exception_info\": {\n",
            "        \"raised_exception\": false,\n",
            "        \"exception_traceback\": null,\n",
            "        \"exception_message\": null\n",
            "      }\n",
            "    },\n",
            "    {\n",
            "      \"success\": true,\n",
            "      \"expectation_config\": {\n",
            "        \"type\": \"expect_column_values_to_be_between\",\n",
            "        \"kwargs\": {\n",
            "          \"batch_id\": \"my_data_source-my_dataframe_data_asset\",\n",
            "          \"column\": \"end_lng\",\n",
            "          \"min_value\": -180.0,\n",
            "          \"max_value\": 180.0\n",
            "        },\n",
            "        \"meta\": {},\n",
            "        \"id\": \"0ce15c46-e87e-47e5-83a4-bfd3c648babf\"\n",
            "      },\n",
            "      \"result\": {\n",
            "        \"element_count\": 1000000,\n",
            "        \"unexpected_count\": 0,\n",
            "        \"unexpected_percent\": 0.0,\n",
            "        \"partial_unexpected_list\": [],\n",
            "        \"missing_count\": 205,\n",
            "        \"missing_percent\": 0.0205,\n",
            "        \"unexpected_percent_total\": 0.0,\n",
            "        \"unexpected_percent_nonmissing\": 0.0,\n",
            "        \"partial_unexpected_counts\": [],\n",
            "        \"partial_unexpected_index_list\": []\n",
            "      },\n",
            "      \"meta\": {},\n",
            "      \"exception_info\": {\n",
            "        \"raised_exception\": false,\n",
            "        \"exception_traceback\": null,\n",
            "        \"exception_message\": null\n",
            "      }\n",
            "    }\n",
            "  ],\n",
            "  \"suite_name\": \"my_suite\",\n",
            "  \"suite_parameters\": {},\n",
            "  \"statistics\": {\n",
            "    \"evaluated_expectations\": 13,\n",
            "    \"successful_expectations\": 11,\n",
            "    \"unsuccessful_expectations\": 2,\n",
            "    \"success_percent\": 84.61538461538461\n",
            "  },\n",
            "  \"meta\": {\n",
            "    \"great_expectations_version\": \"1.3.2\",\n",
            "    \"batch_spec\": {\n",
            "      \"batch_data\": \"PandasDataFrame\"\n",
            "    },\n",
            "    \"batch_markers\": {\n",
            "      \"ge_load_time\": \"20250119T070042.931486Z\",\n",
            "      \"pandas_data_fingerprint\": \"cab6d2748d99945d688e732fdb0d85ce\"\n",
            "    },\n",
            "    \"active_batch_definition\": {\n",
            "      \"datasource_name\": \"my_data_source\",\n",
            "      \"data_connector_name\": \"fluent\",\n",
            "      \"data_asset_name\": \"my_dataframe_data_asset\",\n",
            "      \"batch_identifiers\": {\n",
            "        \"dataframe\": \"<DATAFRAME>\"\n",
            "      }\n",
            "    },\n",
            "    \"validation_id\": \"0abd2c04-410e-4e3b-9f68-b1bae5d38456\",\n",
            "    \"checkpoint_id\": null,\n",
            "    \"batch_parameters\": {\n",
            "      \"dataframe\": \"<DATAFRAME>\"\n",
            "    }\n",
            "  },\n",
            "  \"id\": null\n",
            "}\n"
          ]
        }
      ]
    },
    {
      "cell_type": "code",
      "source": [
        "context = gx.get_context()"
      ],
      "metadata": {
        "id": "DuFItNd_zPxS"
      },
      "execution_count": null,
      "outputs": []
    },
    {
      "cell_type": "markdown",
      "source": [
        "Importing the EmailAction functionality to send emails if any error occurs during validation"
      ],
      "metadata": {
        "id": "XF1bMBH1RxlM"
      }
    },
    {
      "cell_type": "code",
      "source": [
        "from great_expectations.checkpoint import (\n",
        "    EmailAction\n",
        ")"
      ],
      "metadata": {
        "id": "GBAaqwAO2c5j"
      },
      "execution_count": null,
      "outputs": []
    },
    {
      "cell_type": "code",
      "source": [
        "validation_definitions = [\n",
        "    context.validation_definitions.get(\"my_validation_definition1\")\n",
        "]"
      ],
      "metadata": {
        "id": "2WknemHg0Nlz"
      },
      "execution_count": null,
      "outputs": []
    },
    {
      "cell_type": "markdown",
      "source": [
        "Setting an email action to send notification if any occurs happens during validation"
      ],
      "metadata": {
        "id": "QTBroIHASEH9"
      }
    },
    {
      "cell_type": "code",
      "source": [
        "email_action=[EmailAction(\n",
        "    name=\"send_email_on_failure\",\n",
        "    smtp_address=\"smtp.gmail.com\",\n",
        "    smtp_port=587,\n",
        "    receiver_emails=\"23110029@iitgn.ac.in\",\n",
        "    sender_login=\"23110254@iitgn.ac.in\",\n",
        "    sender_password=\"xyz\",#dummy password\n",
        "    use_tls=True,\n",
        "    notify_on=\"all\",\n",
        ")]"
      ],
      "metadata": {
        "id": "W6_o5FEy0VKI"
      },
      "execution_count": null,
      "outputs": []
    },
    {
      "cell_type": "markdown",
      "source": [
        "Creating the checkpont"
      ],
      "metadata": {
        "id": "6NshZOPrSO6a"
      }
    },
    {
      "cell_type": "code",
      "source": [
        "checkpoint_name=\"my_checkpoint1\"\n",
        "checkpoint1=gx.Checkpoint(\n",
        "    name=checkpoint_name,\n",
        "    validation_definitions=validation_definitions,\n",
        "    actions=email_action,\n",
        "    result_format={\"result_format\": \"COMPLETE\"},\n",
        ")\n",
        "context.checkpoints.add(checkpoint1)\n",
        "checkpoint_name = \"my_checkpoint1\"\n",
        "checkpoint = context.checkpoints.get(checkpoint_name)"
      ],
      "metadata": {
        "collapsed": true,
        "id": "nRThkYXP2s7w"
      },
      "execution_count": null,
      "outputs": []
    },
    {
      "cell_type": "markdown",
      "source": [
        "Running the checkpoint"
      ],
      "metadata": {
        "id": "8O-E3ttOSXo7"
      }
    },
    {
      "cell_type": "code",
      "source": [
        "validation_results = checkpoint.run(\n",
        "    batch_parameters=my_batch_parameter, expectation_parameters=suite\n",
        ")"
      ],
      "metadata": {
        "colab": {
          "base_uri": "https://localhost:8080/",
          "height": 49,
          "referenced_widgets": [
            "51032ba56ae442f5aa11b2ae67cb86dd",
            "c1f938e5d40d4675952d7797c70a6fe2",
            "4f1b531feac44664ac5a05e7378b6d7d",
            "0d6f24211f0f4690a55a461456a871ac",
            "b008e6544e9640b9ba5d5f593fba0563",
            "c0d576b587f4432ba932a33aca51abad",
            "725bc081b8f44167becbff83dd3b798e",
            "8e39647f6f9144f5bfb85b90928eaa5f",
            "85d79d60b0324022bbc3e59358938f24",
            "5ab04c5f46ab43bbb45aefe089605bf0",
            "fcecfdfa14884954a9752edebac7055f"
          ]
        },
        "id": "oZWu5O9Z6Qiu",
        "outputId": "67db64bf-10bc-41ac-e06c-2cdf701f4042"
      },
      "execution_count": null,
      "outputs": [
        {
          "output_type": "display_data",
          "data": {
            "text/plain": [
              "Calculating Metrics:   0%|          | 0/97 [00:00<?, ?it/s]"
            ],
            "application/vnd.jupyter.widget-view+json": {
              "version_major": 2,
              "version_minor": 0,
              "model_id": "51032ba56ae442f5aa11b2ae67cb86dd"
            }
          },
          "metadata": {}
        }
      ]
    },
    {
      "cell_type": "markdown",
      "source": [
        "Mail received on error occuring during validation"
      ],
      "metadata": {
        "id": "xE_8Xq1rSnT7"
      }
    },
    {
      "cell_type": "markdown",
      "source": [
        "![WhatsApp Image 2025-01-18 at 01.55.47_06b675ff.jpg](data:image/jpeg;base64,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)"
      ],
      "metadata": {
        "id": "v-CzagVLSesx"
      }
    }
  ],
  "metadata": {
    "kernelspec": {
      "display_name": "Python 3",
      "language": "python",
      "name": "python3"
    },
    "language_info": {
      "codemirror_mode": {
        "name": "ipython",
        "version": 3
      },
      "file_extension": ".py",
      "mimetype": "text/x-python",
      "name": "python",
      "nbconvert_exporter": "python",
      "pygments_lexer": "ipython3",
      "version": "3.11.5"
    },
    "colab": {
      "provenance": [],
      "include_colab_link": true
    },
    "widgets": {
      "application/vnd.jupyter.widget-state+json": {
        "cb0f785ad80c4e43a146a34966b18259": {
          "model_module": "@jupyter-widgets/controls",
          "model_name": "HBoxModel",
          "model_module_version": "1.5.0",
          "state": {
            "_dom_classes": [],
            "_model_module": "@jupyter-widgets/controls",
            "_model_module_version": "1.5.0",
            "_model_name": "HBoxModel",
            "_view_count": null,
            "_view_module": "@jupyter-widgets/controls",
            "_view_module_version": "1.5.0",
            "_view_name": "HBoxView",
            "box_style": "",
            "children": [
              "IPY_MODEL_a82a90d906414fd190646d95725322dc",
              "IPY_MODEL_383f03b7444046bfb73d0d5251060c5f",
              "IPY_MODEL_78dde5da6c524e85b01a2bda98719cd6"
            ],
            "layout": "IPY_MODEL_f2d4c38b9afd466582034850d95fc77a"
          }
        },
        "a82a90d906414fd190646d95725322dc": {
          "model_module": "@jupyter-widgets/controls",
          "model_name": "HTMLModel",
          "model_module_version": "1.5.0",
          "state": {
            "_dom_classes": [],
            "_model_module": "@jupyter-widgets/controls",
            "_model_module_version": "1.5.0",
            "_model_name": "HTMLModel",
            "_view_count": null,
            "_view_module": "@jupyter-widgets/controls",
            "_view_module_version": "1.5.0",
            "_view_name": "HTMLView",
            "description": "",
            "description_tooltip": null,
            "layout": "IPY_MODEL_41ea1360f9a346d58a0da876b3af26c1",
            "placeholder": "​",
            "style": "IPY_MODEL_430c92b6222c46c1b869110e091ac1ed",
            "value": "Calculating Metrics: 100%"
          }
        },
        "383f03b7444046bfb73d0d5251060c5f": {
          "model_module": "@jupyter-widgets/controls",
          "model_name": "FloatProgressModel",
          "model_module_version": "1.5.0",
          "state": {
            "_dom_classes": [],
            "_model_module": "@jupyter-widgets/controls",
            "_model_module_version": "1.5.0",
            "_model_name": "FloatProgressModel",
            "_view_count": null,
            "_view_module": "@jupyter-widgets/controls",
            "_view_module_version": "1.5.0",
            "_view_name": "ProgressView",
            "bar_style": "success",
            "description": "",
            "description_tooltip": null,
            "layout": "IPY_MODEL_8a734278982a4f80918e7a85784e7f72",
            "max": 97,
            "min": 0,
            "orientation": "horizontal",
            "style": "IPY_MODEL_4cd0b3a4928649fd8399a5ccf0fc4e30",
            "value": 97
          }
        },
        "78dde5da6c524e85b01a2bda98719cd6": {
          "model_module": "@jupyter-widgets/controls",
          "model_name": "HTMLModel",
          "model_module_version": "1.5.0",
          "state": {
            "_dom_classes": [],
            "_model_module": "@jupyter-widgets/controls",
            "_model_module_version": "1.5.0",
            "_model_name": "HTMLModel",
            "_view_count": null,
            "_view_module": "@jupyter-widgets/controls",
            "_view_module_version": "1.5.0",
            "_view_name": "HTMLView",
            "description": "",
            "description_tooltip": null,
            "layout": "IPY_MODEL_edf7d207b7d747e7af6d86ec0949a608",
            "placeholder": "​",
            "style": "IPY_MODEL_fbb845e3459e447aaec5e1cbfe2bf920",
            "value": " 97/97 [00:13&lt;00:00,  7.17it/s]"
          }
        },
        "f2d4c38b9afd466582034850d95fc77a": {
          "model_module": "@jupyter-widgets/base",
          "model_name": "LayoutModel",
          "model_module_version": "1.2.0",
          "state": {
            "_model_module": "@jupyter-widgets/base",
            "_model_module_version": "1.2.0",
            "_model_name": "LayoutModel",
            "_view_count": null,
            "_view_module": "@jupyter-widgets/base",
            "_view_module_version": "1.2.0",
            "_view_name": "LayoutView",
            "align_content": null,
            "align_items": null,
            "align_self": null,
            "border": null,
            "bottom": null,
            "display": null,
            "flex": null,
            "flex_flow": null,
            "grid_area": null,
            "grid_auto_columns": null,
            "grid_auto_flow": null,
            "grid_auto_rows": null,
            "grid_column": null,
            "grid_gap": null,
            "grid_row": null,
            "grid_template_areas": null,
            "grid_template_columns": null,
            "grid_template_rows": null,
            "height": null,
            "justify_content": null,
            "justify_items": null,
            "left": null,
            "margin": null,
            "max_height": null,
            "max_width": null,
            "min_height": null,
            "min_width": null,
            "object_fit": null,
            "object_position": null,
            "order": null,
            "overflow": null,
            "overflow_x": null,
            "overflow_y": null,
            "padding": null,
            "right": null,
            "top": null,
            "visibility": null,
            "width": null
          }
        },
        "41ea1360f9a346d58a0da876b3af26c1": {
          "model_module": "@jupyter-widgets/base",
          "model_name": "LayoutModel",
          "model_module_version": "1.2.0",
          "state": {
            "_model_module": "@jupyter-widgets/base",
            "_model_module_version": "1.2.0",
            "_model_name": "LayoutModel",
            "_view_count": null,
            "_view_module": "@jupyter-widgets/base",
            "_view_module_version": "1.2.0",
            "_view_name": "LayoutView",
            "align_content": null,
            "align_items": null,
            "align_self": null,
            "border": null,
            "bottom": null,
            "display": null,
            "flex": null,
            "flex_flow": null,
            "grid_area": null,
            "grid_auto_columns": null,
            "grid_auto_flow": null,
            "grid_auto_rows": null,
            "grid_column": null,
            "grid_gap": null,
            "grid_row": null,
            "grid_template_areas": null,
            "grid_template_columns": null,
            "grid_template_rows": null,
            "height": null,
            "justify_content": null,
            "justify_items": null,
            "left": null,
            "margin": null,
            "max_height": null,
            "max_width": null,
            "min_height": null,
            "min_width": null,
            "object_fit": null,
            "object_position": null,
            "order": null,
            "overflow": null,
            "overflow_x": null,
            "overflow_y": null,
            "padding": null,
            "right": null,
            "top": null,
            "visibility": null,
            "width": null
          }
        },
        "430c92b6222c46c1b869110e091ac1ed": {
          "model_module": "@jupyter-widgets/controls",
          "model_name": "DescriptionStyleModel",
          "model_module_version": "1.5.0",
          "state": {
            "_model_module": "@jupyter-widgets/controls",
            "_model_module_version": "1.5.0",
            "_model_name": "DescriptionStyleModel",
            "_view_count": null,
            "_view_module": "@jupyter-widgets/base",
            "_view_module_version": "1.2.0",
            "_view_name": "StyleView",
            "description_width": ""
          }
        },
        "8a734278982a4f80918e7a85784e7f72": {
          "model_module": "@jupyter-widgets/base",
          "model_name": "LayoutModel",
          "model_module_version": "1.2.0",
          "state": {
            "_model_module": "@jupyter-widgets/base",
            "_model_module_version": "1.2.0",
            "_model_name": "LayoutModel",
            "_view_count": null,
            "_view_module": "@jupyter-widgets/base",
            "_view_module_version": "1.2.0",
            "_view_name": "LayoutView",
            "align_content": null,
            "align_items": null,
            "align_self": null,
            "border": null,
            "bottom": null,
            "display": null,
            "flex": null,
            "flex_flow": null,
            "grid_area": null,
            "grid_auto_columns": null,
            "grid_auto_flow": null,
            "grid_auto_rows": null,
            "grid_column": null,
            "grid_gap": null,
            "grid_row": null,
            "grid_template_areas": null,
            "grid_template_columns": null,
            "grid_template_rows": null,
            "height": null,
            "justify_content": null,
            "justify_items": null,
            "left": null,
            "margin": null,
            "max_height": null,
            "max_width": null,
            "min_height": null,
            "min_width": null,
            "object_fit": null,
            "object_position": null,
            "order": null,
            "overflow": null,
            "overflow_x": null,
            "overflow_y": null,
            "padding": null,
            "right": null,
            "top": null,
            "visibility": null,
            "width": null
          }
        },
        "4cd0b3a4928649fd8399a5ccf0fc4e30": {
          "model_module": "@jupyter-widgets/controls",
          "model_name": "ProgressStyleModel",
          "model_module_version": "1.5.0",
          "state": {
            "_model_module": "@jupyter-widgets/controls",
            "_model_module_version": "1.5.0",
            "_model_name": "ProgressStyleModel",
            "_view_count": null,
            "_view_module": "@jupyter-widgets/base",
            "_view_module_version": "1.2.0",
            "_view_name": "StyleView",
            "bar_color": null,
            "description_width": ""
          }
        },
        "edf7d207b7d747e7af6d86ec0949a608": {
          "model_module": "@jupyter-widgets/base",
          "model_name": "LayoutModel",
          "model_module_version": "1.2.0",
          "state": {
            "_model_module": "@jupyter-widgets/base",
            "_model_module_version": "1.2.0",
            "_model_name": "LayoutModel",
            "_view_count": null,
            "_view_module": "@jupyter-widgets/base",
            "_view_module_version": "1.2.0",
            "_view_name": "LayoutView",
            "align_content": null,
            "align_items": null,
            "align_self": null,
            "border": null,
            "bottom": null,
            "display": null,
            "flex": null,
            "flex_flow": null,
            "grid_area": null,
            "grid_auto_columns": null,
            "grid_auto_flow": null,
            "grid_auto_rows": null,
            "grid_column": null,
            "grid_gap": null,
            "grid_row": null,
            "grid_template_areas": null,
            "grid_template_columns": null,
            "grid_template_rows": null,
            "height": null,
            "justify_content": null,
            "justify_items": null,
            "left": null,
            "margin": null,
            "max_height": null,
            "max_width": null,
            "min_height": null,
            "min_width": null,
            "object_fit": null,
            "object_position": null,
            "order": null,
            "overflow": null,
            "overflow_x": null,
            "overflow_y": null,
            "padding": null,
            "right": null,
            "top": null,
            "visibility": null,
            "width": null
          }
        },
        "fbb845e3459e447aaec5e1cbfe2bf920": {
          "model_module": "@jupyter-widgets/controls",
          "model_name": "DescriptionStyleModel",
          "model_module_version": "1.5.0",
          "state": {
            "_model_module": "@jupyter-widgets/controls",
            "_model_module_version": "1.5.0",
            "_model_name": "DescriptionStyleModel",
            "_view_count": null,
            "_view_module": "@jupyter-widgets/base",
            "_view_module_version": "1.2.0",
            "_view_name": "StyleView",
            "description_width": ""
          }
        },
        "51032ba56ae442f5aa11b2ae67cb86dd": {
          "model_module": "@jupyter-widgets/controls",
          "model_name": "HBoxModel",
          "model_module_version": "1.5.0",
          "state": {
            "_dom_classes": [],
            "_model_module": "@jupyter-widgets/controls",
            "_model_module_version": "1.5.0",
            "_model_name": "HBoxModel",
            "_view_count": null,
            "_view_module": "@jupyter-widgets/controls",
            "_view_module_version": "1.5.0",
            "_view_name": "HBoxView",
            "box_style": "",
            "children": [
              "IPY_MODEL_c1f938e5d40d4675952d7797c70a6fe2",
              "IPY_MODEL_4f1b531feac44664ac5a05e7378b6d7d",
              "IPY_MODEL_0d6f24211f0f4690a55a461456a871ac"
            ],
            "layout": "IPY_MODEL_b008e6544e9640b9ba5d5f593fba0563"
          }
        },
        "c1f938e5d40d4675952d7797c70a6fe2": {
          "model_module": "@jupyter-widgets/controls",
          "model_name": "HTMLModel",
          "model_module_version": "1.5.0",
          "state": {
            "_dom_classes": [],
            "_model_module": "@jupyter-widgets/controls",
            "_model_module_version": "1.5.0",
            "_model_name": "HTMLModel",
            "_view_count": null,
            "_view_module": "@jupyter-widgets/controls",
            "_view_module_version": "1.5.0",
            "_view_name": "HTMLView",
            "description": "",
            "description_tooltip": null,
            "layout": "IPY_MODEL_c0d576b587f4432ba932a33aca51abad",
            "placeholder": "​",
            "style": "IPY_MODEL_725bc081b8f44167becbff83dd3b798e",
            "value": "Calculating Metrics: 100%"
          }
        },
        "4f1b531feac44664ac5a05e7378b6d7d": {
          "model_module": "@jupyter-widgets/controls",
          "model_name": "FloatProgressModel",
          "model_module_version": "1.5.0",
          "state": {
            "_dom_classes": [],
            "_model_module": "@jupyter-widgets/controls",
            "_model_module_version": "1.5.0",
            "_model_name": "FloatProgressModel",
            "_view_count": null,
            "_view_module": "@jupyter-widgets/controls",
            "_view_module_version": "1.5.0",
            "_view_name": "ProgressView",
            "bar_style": "success",
            "description": "",
            "description_tooltip": null,
            "layout": "IPY_MODEL_8e39647f6f9144f5bfb85b90928eaa5f",
            "max": 97,
            "min": 0,
            "orientation": "horizontal",
            "style": "IPY_MODEL_85d79d60b0324022bbc3e59358938f24",
            "value": 97
          }
        },
        "0d6f24211f0f4690a55a461456a871ac": {
          "model_module": "@jupyter-widgets/controls",
          "model_name": "HTMLModel",
          "model_module_version": "1.5.0",
          "state": {
            "_dom_classes": [],
            "_model_module": "@jupyter-widgets/controls",
            "_model_module_version": "1.5.0",
            "_model_name": "HTMLModel",
            "_view_count": null,
            "_view_module": "@jupyter-widgets/controls",
            "_view_module_version": "1.5.0",
            "_view_name": "HTMLView",
            "description": "",
            "description_tooltip": null,
            "layout": "IPY_MODEL_5ab04c5f46ab43bbb45aefe089605bf0",
            "placeholder": "​",
            "style": "IPY_MODEL_fcecfdfa14884954a9752edebac7055f",
            "value": " 97/97 [00:13&lt;00:00,  7.16it/s]"
          }
        },
        "b008e6544e9640b9ba5d5f593fba0563": {
          "model_module": "@jupyter-widgets/base",
          "model_name": "LayoutModel",
          "model_module_version": "1.2.0",
          "state": {
            "_model_module": "@jupyter-widgets/base",
            "_model_module_version": "1.2.0",
            "_model_name": "LayoutModel",
            "_view_count": null,
            "_view_module": "@jupyter-widgets/base",
            "_view_module_version": "1.2.0",
            "_view_name": "LayoutView",
            "align_content": null,
            "align_items": null,
            "align_self": null,
            "border": null,
            "bottom": null,
            "display": null,
            "flex": null,
            "flex_flow": null,
            "grid_area": null,
            "grid_auto_columns": null,
            "grid_auto_flow": null,
            "grid_auto_rows": null,
            "grid_column": null,
            "grid_gap": null,
            "grid_row": null,
            "grid_template_areas": null,
            "grid_template_columns": null,
            "grid_template_rows": null,
            "height": null,
            "justify_content": null,
            "justify_items": null,
            "left": null,
            "margin": null,
            "max_height": null,
            "max_width": null,
            "min_height": null,
            "min_width": null,
            "object_fit": null,
            "object_position": null,
            "order": null,
            "overflow": null,
            "overflow_x": null,
            "overflow_y": null,
            "padding": null,
            "right": null,
            "top": null,
            "visibility": null,
            "width": null
          }
        },
        "c0d576b587f4432ba932a33aca51abad": {
          "model_module": "@jupyter-widgets/base",
          "model_name": "LayoutModel",
          "model_module_version": "1.2.0",
          "state": {
            "_model_module": "@jupyter-widgets/base",
            "_model_module_version": "1.2.0",
            "_model_name": "LayoutModel",
            "_view_count": null,
            "_view_module": "@jupyter-widgets/base",
            "_view_module_version": "1.2.0",
            "_view_name": "LayoutView",
            "align_content": null,
            "align_items": null,
            "align_self": null,
            "border": null,
            "bottom": null,
            "display": null,
            "flex": null,
            "flex_flow": null,
            "grid_area": null,
            "grid_auto_columns": null,
            "grid_auto_flow": null,
            "grid_auto_rows": null,
            "grid_column": null,
            "grid_gap": null,
            "grid_row": null,
            "grid_template_areas": null,
            "grid_template_columns": null,
            "grid_template_rows": null,
            "height": null,
            "justify_content": null,
            "justify_items": null,
            "left": null,
            "margin": null,
            "max_height": null,
            "max_width": null,
            "min_height": null,
            "min_width": null,
            "object_fit": null,
            "object_position": null,
            "order": null,
            "overflow": null,
            "overflow_x": null,
            "overflow_y": null,
            "padding": null,
            "right": null,
            "top": null,
            "visibility": null,
            "width": null
          }
        },
        "725bc081b8f44167becbff83dd3b798e": {
          "model_module": "@jupyter-widgets/controls",
          "model_name": "DescriptionStyleModel",
          "model_module_version": "1.5.0",
          "state": {
            "_model_module": "@jupyter-widgets/controls",
            "_model_module_version": "1.5.0",
            "_model_name": "DescriptionStyleModel",
            "_view_count": null,
            "_view_module": "@jupyter-widgets/base",
            "_view_module_version": "1.2.0",
            "_view_name": "StyleView",
            "description_width": ""
          }
        },
        "8e39647f6f9144f5bfb85b90928eaa5f": {
          "model_module": "@jupyter-widgets/base",
          "model_name": "LayoutModel",
          "model_module_version": "1.2.0",
          "state": {
            "_model_module": "@jupyter-widgets/base",
            "_model_module_version": "1.2.0",
            "_model_name": "LayoutModel",
            "_view_count": null,
            "_view_module": "@jupyter-widgets/base",
            "_view_module_version": "1.2.0",
            "_view_name": "LayoutView",
            "align_content": null,
            "align_items": null,
            "align_self": null,
            "border": null,
            "bottom": null,
            "display": null,
            "flex": null,
            "flex_flow": null,
            "grid_area": null,
            "grid_auto_columns": null,
            "grid_auto_flow": null,
            "grid_auto_rows": null,
            "grid_column": null,
            "grid_gap": null,
            "grid_row": null,
            "grid_template_areas": null,
            "grid_template_columns": null,
            "grid_template_rows": null,
            "height": null,
            "justify_content": null,
            "justify_items": null,
            "left": null,
            "margin": null,
            "max_height": null,
            "max_width": null,
            "min_height": null,
            "min_width": null,
            "object_fit": null,
            "object_position": null,
            "order": null,
            "overflow": null,
            "overflow_x": null,
            "overflow_y": null,
            "padding": null,
            "right": null,
            "top": null,
            "visibility": null,
            "width": null
          }
        },
        "85d79d60b0324022bbc3e59358938f24": {
          "model_module": "@jupyter-widgets/controls",
          "model_name": "ProgressStyleModel",
          "model_module_version": "1.5.0",
          "state": {
            "_model_module": "@jupyter-widgets/controls",
            "_model_module_version": "1.5.0",
            "_model_name": "ProgressStyleModel",
            "_view_count": null,
            "_view_module": "@jupyter-widgets/base",
            "_view_module_version": "1.2.0",
            "_view_name": "StyleView",
            "bar_color": null,
            "description_width": ""
          }
        },
        "5ab04c5f46ab43bbb45aefe089605bf0": {
          "model_module": "@jupyter-widgets/base",
          "model_name": "LayoutModel",
          "model_module_version": "1.2.0",
          "state": {
            "_model_module": "@jupyter-widgets/base",
            "_model_module_version": "1.2.0",
            "_model_name": "LayoutModel",
            "_view_count": null,
            "_view_module": "@jupyter-widgets/base",
            "_view_module_version": "1.2.0",
            "_view_name": "LayoutView",
            "align_content": null,
            "align_items": null,
            "align_self": null,
            "border": null,
            "bottom": null,
            "display": null,
            "flex": null,
            "flex_flow": null,
            "grid_area": null,
            "grid_auto_columns": null,
            "grid_auto_flow": null,
            "grid_auto_rows": null,
            "grid_column": null,
            "grid_gap": null,
            "grid_row": null,
            "grid_template_areas": null,
            "grid_template_columns": null,
            "grid_template_rows": null,
            "height": null,
            "justify_content": null,
            "justify_items": null,
            "left": null,
            "margin": null,
            "max_height": null,
            "max_width": null,
            "min_height": null,
            "min_width": null,
            "object_fit": null,
            "object_position": null,
            "order": null,
            "overflow": null,
            "overflow_x": null,
            "overflow_y": null,
            "padding": null,
            "right": null,
            "top": null,
            "visibility": null,
            "width": null
          }
        },
        "fcecfdfa14884954a9752edebac7055f": {
          "model_module": "@jupyter-widgets/controls",
          "model_name": "DescriptionStyleModel",
          "model_module_version": "1.5.0",
          "state": {
            "_model_module": "@jupyter-widgets/controls",
            "_model_module_version": "1.5.0",
            "_model_name": "DescriptionStyleModel",
            "_view_count": null,
            "_view_module": "@jupyter-widgets/base",
            "_view_module_version": "1.2.0",
            "_view_name": "StyleView",
            "description_width": ""
          }
        }
      }
    }
  },
  "nbformat": 4,
  "nbformat_minor": 0
}