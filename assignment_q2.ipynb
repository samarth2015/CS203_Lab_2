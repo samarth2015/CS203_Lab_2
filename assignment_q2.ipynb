{
  "cells": [
    {
      "cell_type": "markdown",
      "metadata": {
        "id": "view-in-github",
        "colab_type": "text"
      },
      "source": [
        "<a href=\"https://colab.research.google.com/github/samarth2015/CS203_Lab_2/blob/main/assignment_q2.ipynb\" target=\"_parent\"><img src=\"https://colab.research.google.com/assets/colab-badge.svg\" alt=\"Open In Colab\"/></a>"
      ]
    },
    {
      "cell_type": "code",
      "source": [
        "from google.colab import drive\n",
        "drive.mount('/content/drive')"
      ],
      "metadata": {
        "id": "u4MxKWBKb7lb",
        "outputId": "b84c0979-62a9-4330-c6c6-cf361ab797e4",
        "colab": {
          "base_uri": "https://localhost:8080/"
        }
      },
      "execution_count": 19,
      "outputs": [
        {
          "output_type": "stream",
          "name": "stdout",
          "text": [
            "Drive already mounted at /content/drive; to attempt to forcibly remount, call drive.mount(\"/content/drive\", force_remount=True).\n"
          ]
        }
      ]
    },
    {
      "cell_type": "markdown",
      "metadata": {
        "id": "orQ7t9CAao4z"
      },
      "source": []
    },
    {
      "cell_type": "code",
      "execution_count": 20,
      "metadata": {
        "collapsed": true,
        "id": "QVz31UlYao40",
        "outputId": "c6144c22-812f-49bc-9431-85e1c5188093",
        "colab": {
          "base_uri": "https://localhost:8080/"
        }
      },
      "outputs": [
        {
          "output_type": "stream",
          "name": "stdout",
          "text": [
            "Requirement already satisfied: pandas in /usr/local/lib/python3.11/dist-packages (2.1.4)\n",
            "Requirement already satisfied: numpy<2,>=1.23.2 in /usr/local/lib/python3.11/dist-packages (from pandas) (1.26.4)\n",
            "Requirement already satisfied: python-dateutil>=2.8.2 in /usr/local/lib/python3.11/dist-packages (from pandas) (2.8.2)\n",
            "Requirement already satisfied: pytz>=2020.1 in /usr/local/lib/python3.11/dist-packages (from pandas) (2024.2)\n",
            "Requirement already satisfied: tzdata>=2022.1 in /usr/local/lib/python3.11/dist-packages (from pandas) (2024.2)\n",
            "Requirement already satisfied: six>=1.5 in /usr/local/lib/python3.11/dist-packages (from python-dateutil>=2.8.2->pandas) (1.17.0)\n",
            "\u001b[31mERROR: Operation cancelled by user\u001b[0m\u001b[31m\n",
            "\u001b[0m"
          ]
        }
      ],
      "source": [
        "!rm -rf gx\n",
        "!pip install pandas\n",
        "!pip install great_expectations -q"
      ]
    },
    {
      "cell_type": "code",
      "source": [
        "import great_expectations as gx\n",
        "from great_expectations.data_context.types.base import DataContextConfig\n",
        "from great_expectations.checkpoint import CheckpointResult\n",
        "\n",
        "import pandas as pd"
      ],
      "metadata": {
        "id": "HiTVaTLYcigs"
      },
      "execution_count": 21,
      "outputs": []
    },
    {
      "cell_type": "code",
      "source": [
        "citibike1=pd.read_csv(\"/content/drive/MyDrive/202412-citibike-tripdata/202412-citibike-tripdata_1.csv\")"
      ],
      "metadata": {
        "id": "MNDA5pnhc85-",
        "outputId": "b6af1153-ca93-4d60-c590-c41f4820e17b",
        "colab": {
          "base_uri": "https://localhost:8080/"
        }
      },
      "execution_count": 22,
      "outputs": [
        {
          "output_type": "stream",
          "name": "stderr",
          "text": [
            "<ipython-input-22-c29a042a9f9c>:1: DtypeWarning: Columns (5,7) have mixed types. Specify dtype option on import or set low_memory=False.\n",
            "  citibike1=pd.read_csv(\"/content/drive/MyDrive/202412-citibike-tripdata/202412-citibike-tripdata_1.csv\")\n"
          ]
        }
      ]
    },
    {
      "cell_type": "code",
      "source": [
        "df=pd.DataFrame(citibike1)"
      ],
      "metadata": {
        "id": "ErfdI1vgezPH"
      },
      "execution_count": 23,
      "outputs": []
    },
    {
      "cell_type": "code",
      "source": [
        "df.head(3)"
      ],
      "metadata": {
        "collapsed": true,
        "id": "T05QyUmtfNLp",
        "outputId": "4046ee1e-2f88-4798-bdc8-fac7c5e9eed8",
        "colab": {
          "base_uri": "https://localhost:8080/",
          "height": 215
        }
      },
      "execution_count": 16,
      "outputs": [
        {
          "output_type": "execute_result",
          "data": {
            "text/plain": [
              "            ride_id  rideable_type               started_at  \\\n",
              "0  B44E5B10AEE58AD0   classic_bike  2024-12-14 10:58:18.153   \n",
              "1  BC252DC6A6011556  electric_bike  2024-12-12 14:46:12.473   \n",
              "2  6FBE55EF6FE8736D  electric_bike  2024-12-11 07:55:18.770   \n",
              "\n",
              "                  ended_at                  start_station_name  \\\n",
              "0  2024-12-14 11:11:11.308  Frederick Douglass Blvd & W 145 St   \n",
              "1  2024-12-12 16:45:37.777               Madison Ave & E 99 St   \n",
              "2  2024-12-11 08:02:23.460               Columbia St & Kane St   \n",
              "\n",
              "  start_station_id  end_station_name end_station_id  start_lat  start_lng  \\\n",
              "0          7954.12  E 138 St & 5 Ave        7809.13  40.823061 -73.941928   \n",
              "1          7443.01               NaN            NaN  40.789485 -73.952429   \n",
              "2          4422.05               NaN            NaN  40.687632 -74.001626   \n",
              "\n",
              "    end_lat    end_lng member_casual  \n",
              "0  40.81449 -73.936153        member  \n",
              "1  40.78000 -73.960000        member  \n",
              "2  40.69000 -74.000000        member  "
            ],
            "text/html": [
              "\n",
              "  <div id=\"df-28e944ba-76a8-4255-b585-e8fec7f23cfd\" class=\"colab-df-container\">\n",
              "    <div>\n",
              "<style scoped>\n",
              "    .dataframe tbody tr th:only-of-type {\n",
              "        vertical-align: middle;\n",
              "    }\n",
              "\n",
              "    .dataframe tbody tr th {\n",
              "        vertical-align: top;\n",
              "    }\n",
              "\n",
              "    .dataframe thead th {\n",
              "        text-align: right;\n",
              "    }\n",
              "</style>\n",
              "<table border=\"1\" class=\"dataframe\">\n",
              "  <thead>\n",
              "    <tr style=\"text-align: right;\">\n",
              "      <th></th>\n",
              "      <th>ride_id</th>\n",
              "      <th>rideable_type</th>\n",
              "      <th>started_at</th>\n",
              "      <th>ended_at</th>\n",
              "      <th>start_station_name</th>\n",
              "      <th>start_station_id</th>\n",
              "      <th>end_station_name</th>\n",
              "      <th>end_station_id</th>\n",
              "      <th>start_lat</th>\n",
              "      <th>start_lng</th>\n",
              "      <th>end_lat</th>\n",
              "      <th>end_lng</th>\n",
              "      <th>member_casual</th>\n",
              "    </tr>\n",
              "  </thead>\n",
              "  <tbody>\n",
              "    <tr>\n",
              "      <th>0</th>\n",
              "      <td>B44E5B10AEE58AD0</td>\n",
              "      <td>classic_bike</td>\n",
              "      <td>2024-12-14 10:58:18.153</td>\n",
              "      <td>2024-12-14 11:11:11.308</td>\n",
              "      <td>Frederick Douglass Blvd &amp; W 145 St</td>\n",
              "      <td>7954.12</td>\n",
              "      <td>E 138 St &amp; 5 Ave</td>\n",
              "      <td>7809.13</td>\n",
              "      <td>40.823061</td>\n",
              "      <td>-73.941928</td>\n",
              "      <td>40.81449</td>\n",
              "      <td>-73.936153</td>\n",
              "      <td>member</td>\n",
              "    </tr>\n",
              "    <tr>\n",
              "      <th>1</th>\n",
              "      <td>BC252DC6A6011556</td>\n",
              "      <td>electric_bike</td>\n",
              "      <td>2024-12-12 14:46:12.473</td>\n",
              "      <td>2024-12-12 16:45:37.777</td>\n",
              "      <td>Madison Ave &amp; E 99 St</td>\n",
              "      <td>7443.01</td>\n",
              "      <td>NaN</td>\n",
              "      <td>NaN</td>\n",
              "      <td>40.789485</td>\n",
              "      <td>-73.952429</td>\n",
              "      <td>40.78000</td>\n",
              "      <td>-73.960000</td>\n",
              "      <td>member</td>\n",
              "    </tr>\n",
              "    <tr>\n",
              "      <th>2</th>\n",
              "      <td>6FBE55EF6FE8736D</td>\n",
              "      <td>electric_bike</td>\n",
              "      <td>2024-12-11 07:55:18.770</td>\n",
              "      <td>2024-12-11 08:02:23.460</td>\n",
              "      <td>Columbia St &amp; Kane St</td>\n",
              "      <td>4422.05</td>\n",
              "      <td>NaN</td>\n",
              "      <td>NaN</td>\n",
              "      <td>40.687632</td>\n",
              "      <td>-74.001626</td>\n",
              "      <td>40.69000</td>\n",
              "      <td>-74.000000</td>\n",
              "      <td>member</td>\n",
              "    </tr>\n",
              "  </tbody>\n",
              "</table>\n",
              "</div>\n",
              "    <div class=\"colab-df-buttons\">\n",
              "\n",
              "  <div class=\"colab-df-container\">\n",
              "    <button class=\"colab-df-convert\" onclick=\"convertToInteractive('df-28e944ba-76a8-4255-b585-e8fec7f23cfd')\"\n",
              "            title=\"Convert this dataframe to an interactive table.\"\n",
              "            style=\"display:none;\">\n",
              "\n",
              "  <svg xmlns=\"http://www.w3.org/2000/svg\" height=\"24px\" viewBox=\"0 -960 960 960\">\n",
              "    <path d=\"M120-120v-720h720v720H120Zm60-500h600v-160H180v160Zm220 220h160v-160H400v160Zm0 220h160v-160H400v160ZM180-400h160v-160H180v160Zm440 0h160v-160H620v160ZM180-180h160v-160H180v160Zm440 0h160v-160H620v160Z\"/>\n",
              "  </svg>\n",
              "    </button>\n",
              "\n",
              "  <style>\n",
              "    .colab-df-container {\n",
              "      display:flex;\n",
              "      gap: 12px;\n",
              "    }\n",
              "\n",
              "    .colab-df-convert {\n",
              "      background-color: #E8F0FE;\n",
              "      border: none;\n",
              "      border-radius: 50%;\n",
              "      cursor: pointer;\n",
              "      display: none;\n",
              "      fill: #1967D2;\n",
              "      height: 32px;\n",
              "      padding: 0 0 0 0;\n",
              "      width: 32px;\n",
              "    }\n",
              "\n",
              "    .colab-df-convert:hover {\n",
              "      background-color: #E2EBFA;\n",
              "      box-shadow: 0px 1px 2px rgba(60, 64, 67, 0.3), 0px 1px 3px 1px rgba(60, 64, 67, 0.15);\n",
              "      fill: #174EA6;\n",
              "    }\n",
              "\n",
              "    .colab-df-buttons div {\n",
              "      margin-bottom: 4px;\n",
              "    }\n",
              "\n",
              "    [theme=dark] .colab-df-convert {\n",
              "      background-color: #3B4455;\n",
              "      fill: #D2E3FC;\n",
              "    }\n",
              "\n",
              "    [theme=dark] .colab-df-convert:hover {\n",
              "      background-color: #434B5C;\n",
              "      box-shadow: 0px 1px 3px 1px rgba(0, 0, 0, 0.15);\n",
              "      filter: drop-shadow(0px 1px 2px rgba(0, 0, 0, 0.3));\n",
              "      fill: #FFFFFF;\n",
              "    }\n",
              "  </style>\n",
              "\n",
              "    <script>\n",
              "      const buttonEl =\n",
              "        document.querySelector('#df-28e944ba-76a8-4255-b585-e8fec7f23cfd button.colab-df-convert');\n",
              "      buttonEl.style.display =\n",
              "        google.colab.kernel.accessAllowed ? 'block' : 'none';\n",
              "\n",
              "      async function convertToInteractive(key) {\n",
              "        const element = document.querySelector('#df-28e944ba-76a8-4255-b585-e8fec7f23cfd');\n",
              "        const dataTable =\n",
              "          await google.colab.kernel.invokeFunction('convertToInteractive',\n",
              "                                                    [key], {});\n",
              "        if (!dataTable) return;\n",
              "\n",
              "        const docLinkHtml = 'Like what you see? Visit the ' +\n",
              "          '<a target=\"_blank\" href=https://colab.research.google.com/notebooks/data_table.ipynb>data table notebook</a>'\n",
              "          + ' to learn more about interactive tables.';\n",
              "        element.innerHTML = '';\n",
              "        dataTable['output_type'] = 'display_data';\n",
              "        await google.colab.output.renderOutput(dataTable, element);\n",
              "        const docLink = document.createElement('div');\n",
              "        docLink.innerHTML = docLinkHtml;\n",
              "        element.appendChild(docLink);\n",
              "      }\n",
              "    </script>\n",
              "  </div>\n",
              "\n",
              "\n",
              "<div id=\"df-3b8a472f-568f-457e-8b45-65c65bf2771b\">\n",
              "  <button class=\"colab-df-quickchart\" onclick=\"quickchart('df-3b8a472f-568f-457e-8b45-65c65bf2771b')\"\n",
              "            title=\"Suggest charts\"\n",
              "            style=\"display:none;\">\n",
              "\n",
              "<svg xmlns=\"http://www.w3.org/2000/svg\" height=\"24px\"viewBox=\"0 0 24 24\"\n",
              "     width=\"24px\">\n",
              "    <g>\n",
              "        <path d=\"M19 3H5c-1.1 0-2 .9-2 2v14c0 1.1.9 2 2 2h14c1.1 0 2-.9 2-2V5c0-1.1-.9-2-2-2zM9 17H7v-7h2v7zm4 0h-2V7h2v10zm4 0h-2v-4h2v4z\"/>\n",
              "    </g>\n",
              "</svg>\n",
              "  </button>\n",
              "\n",
              "<style>\n",
              "  .colab-df-quickchart {\n",
              "      --bg-color: #E8F0FE;\n",
              "      --fill-color: #1967D2;\n",
              "      --hover-bg-color: #E2EBFA;\n",
              "      --hover-fill-color: #174EA6;\n",
              "      --disabled-fill-color: #AAA;\n",
              "      --disabled-bg-color: #DDD;\n",
              "  }\n",
              "\n",
              "  [theme=dark] .colab-df-quickchart {\n",
              "      --bg-color: #3B4455;\n",
              "      --fill-color: #D2E3FC;\n",
              "      --hover-bg-color: #434B5C;\n",
              "      --hover-fill-color: #FFFFFF;\n",
              "      --disabled-bg-color: #3B4455;\n",
              "      --disabled-fill-color: #666;\n",
              "  }\n",
              "\n",
              "  .colab-df-quickchart {\n",
              "    background-color: var(--bg-color);\n",
              "    border: none;\n",
              "    border-radius: 50%;\n",
              "    cursor: pointer;\n",
              "    display: none;\n",
              "    fill: var(--fill-color);\n",
              "    height: 32px;\n",
              "    padding: 0;\n",
              "    width: 32px;\n",
              "  }\n",
              "\n",
              "  .colab-df-quickchart:hover {\n",
              "    background-color: var(--hover-bg-color);\n",
              "    box-shadow: 0 1px 2px rgba(60, 64, 67, 0.3), 0 1px 3px 1px rgba(60, 64, 67, 0.15);\n",
              "    fill: var(--button-hover-fill-color);\n",
              "  }\n",
              "\n",
              "  .colab-df-quickchart-complete:disabled,\n",
              "  .colab-df-quickchart-complete:disabled:hover {\n",
              "    background-color: var(--disabled-bg-color);\n",
              "    fill: var(--disabled-fill-color);\n",
              "    box-shadow: none;\n",
              "  }\n",
              "\n",
              "  .colab-df-spinner {\n",
              "    border: 2px solid var(--fill-color);\n",
              "    border-color: transparent;\n",
              "    border-bottom-color: var(--fill-color);\n",
              "    animation:\n",
              "      spin 1s steps(1) infinite;\n",
              "  }\n",
              "\n",
              "  @keyframes spin {\n",
              "    0% {\n",
              "      border-color: transparent;\n",
              "      border-bottom-color: var(--fill-color);\n",
              "      border-left-color: var(--fill-color);\n",
              "    }\n",
              "    20% {\n",
              "      border-color: transparent;\n",
              "      border-left-color: var(--fill-color);\n",
              "      border-top-color: var(--fill-color);\n",
              "    }\n",
              "    30% {\n",
              "      border-color: transparent;\n",
              "      border-left-color: var(--fill-color);\n",
              "      border-top-color: var(--fill-color);\n",
              "      border-right-color: var(--fill-color);\n",
              "    }\n",
              "    40% {\n",
              "      border-color: transparent;\n",
              "      border-right-color: var(--fill-color);\n",
              "      border-top-color: var(--fill-color);\n",
              "    }\n",
              "    60% {\n",
              "      border-color: transparent;\n",
              "      border-right-color: var(--fill-color);\n",
              "    }\n",
              "    80% {\n",
              "      border-color: transparent;\n",
              "      border-right-color: var(--fill-color);\n",
              "      border-bottom-color: var(--fill-color);\n",
              "    }\n",
              "    90% {\n",
              "      border-color: transparent;\n",
              "      border-bottom-color: var(--fill-color);\n",
              "    }\n",
              "  }\n",
              "</style>\n",
              "\n",
              "  <script>\n",
              "    async function quickchart(key) {\n",
              "      const quickchartButtonEl =\n",
              "        document.querySelector('#' + key + ' button');\n",
              "      quickchartButtonEl.disabled = true;  // To prevent multiple clicks.\n",
              "      quickchartButtonEl.classList.add('colab-df-spinner');\n",
              "      try {\n",
              "        const charts = await google.colab.kernel.invokeFunction(\n",
              "            'suggestCharts', [key], {});\n",
              "      } catch (error) {\n",
              "        console.error('Error during call to suggestCharts:', error);\n",
              "      }\n",
              "      quickchartButtonEl.classList.remove('colab-df-spinner');\n",
              "      quickchartButtonEl.classList.add('colab-df-quickchart-complete');\n",
              "    }\n",
              "    (() => {\n",
              "      let quickchartButtonEl =\n",
              "        document.querySelector('#df-3b8a472f-568f-457e-8b45-65c65bf2771b button');\n",
              "      quickchartButtonEl.style.display =\n",
              "        google.colab.kernel.accessAllowed ? 'block' : 'none';\n",
              "    })();\n",
              "  </script>\n",
              "</div>\n",
              "\n",
              "    </div>\n",
              "  </div>\n"
            ],
            "application/vnd.google.colaboratory.intrinsic+json": {
              "type": "dataframe",
              "variable_name": "df"
            }
          },
          "metadata": {},
          "execution_count": 16
        }
      ]
    },
    {
      "cell_type": "code",
      "source": [
        "context = gx.get_context(mode=\"file\")"
      ],
      "metadata": {
        "id": "VcbVBWZdiVI1"
      },
      "execution_count": 11,
      "outputs": []
    },
    {
      "cell_type": "code",
      "source": [
        "data_source_name=\"my_data_source\"\n",
        "data_source=context.data_sources.add_pandas(name=data_source_name)\n",
        "\n",
        "data_asset_name = \"my_dataframe_data_asset\"\n",
        "data_asset = data_source.add_dataframe_asset(name=data_asset_name)"
      ],
      "metadata": {
        "id": "SLgEtBoSjQk_"
      },
      "execution_count": 13,
      "outputs": []
    },
    {
      "cell_type": "code",
      "source": [
        "batch_definition=data_asset.add_batch_definition_whole_dataframe(\"my batch definition\")\n",
        "my_batch_parameter = {\"dataframe\":df}\n",
        "my_batch=batch_definition.get_batch(my_batch_parameter)"
      ],
      "metadata": {
        "collapsed": true,
        "id": "7bgWQM7nlGDG",
        "outputId": "db8a021e-1465-4545-82b8-beefecf0798b",
        "colab": {
          "base_uri": "https://localhost:8080/",
          "height": 433,
          "referenced_widgets": [
            "713449c50f4749019103503bfb0d8014",
            "11d74e3b393c45e682ed2406891093b7",
            "255f9fd222da47a3b62d8b07ab63111e",
            "8802680e0f8c4a89a20311d62364bedb",
            "4f38222cdcba4fe29a6580608d3a0400",
            "a1a3e685335d4bdab677366413551024",
            "99b94cf7011445a8953a08c03856ff2f",
            "a8f031d61e9049ca8bf52f36cf91213d",
            "dc0efcccb3e04b72b84fac5a1a74140d",
            "4669549b824b4d54b5767e14934491b2",
            "5ed5cd2e9e9947cdb7479d4f1475c286"
          ]
        }
      },
      "execution_count": 14,
      "outputs": [
        {
          "output_type": "stream",
          "name": "stderr",
          "text": [
            "/usr/local/lib/python3.11/dist-packages/ipykernel/ipkernel.py:283: DeprecationWarning: `should_run_async` will not call `transform_cell` automatically in the future. Please pass the result to `transformed_cell` argument and any exception that happen during thetransform in `preprocessing_exc_tuple` in IPython 7.17 and above.\n",
            "  and should_run_async(code)\n"
          ]
        },
        {
          "output_type": "display_data",
          "data": {
            "text/plain": [
              "Calculating Metrics:   0%|          | 0/1 [00:00<?, ?it/s]"
            ],
            "application/vnd.jupyter.widget-view+json": {
              "version_major": 2,
              "version_minor": 0,
              "model_id": "713449c50f4749019103503bfb0d8014"
            }
          },
          "metadata": {}
        },
        {
          "output_type": "stream",
          "name": "stdout",
          "text": [
            "            ride_id  rideable_type               started_at  \\\n",
            "0  B44E5B10AEE58AD0   classic_bike  2024-12-14 10:58:18.153   \n",
            "1  BC252DC6A6011556  electric_bike  2024-12-12 14:46:12.473   \n",
            "2  6FBE55EF6FE8736D  electric_bike  2024-12-11 07:55:18.770   \n",
            "\n",
            "                  ended_at                  start_station_name  \\\n",
            "0  2024-12-14 11:11:11.308  Frederick Douglass Blvd & W 145 St   \n",
            "1  2024-12-12 16:45:37.777               Madison Ave & E 99 St   \n",
            "2  2024-12-11 08:02:23.460               Columbia St & Kane St   \n",
            "\n",
            "  start_station_id  end_station_name end_station_id  start_lat  start_lng  \\\n",
            "0          7954.12  E 138 St & 5 Ave        7809.13  40.823061 -73.941928   \n",
            "1          7443.01               NaN            NaN  40.789485 -73.952429   \n",
            "2          4422.05               NaN            NaN  40.687632 -74.001626   \n",
            "\n",
            "    end_lat    end_lng member_casual  \n",
            "0  40.81449 -73.936153        member  \n",
            "1  40.78000 -73.960000        member  \n",
            "2  40.69000 -74.000000        member  \n"
          ]
        }
      ]
    },
    {
      "cell_type": "code",
      "source": [
        "my_suite_name=\"my_suite\"\n",
        "suite=gx.ExpectationSuite(name=my_suite_name)\n"
      ],
      "metadata": {
        "id": "cg8G5JsnmoSF"
      },
      "execution_count": 31,
      "outputs": []
    },
    {
      "cell_type": "code",
      "source": [
        "suite=context.suites.add(suite)\n"
      ],
      "metadata": {
        "id": "iJFVkpBBzzKY"
      },
      "execution_count": 32,
      "outputs": []
    },
    {
      "cell_type": "code",
      "source": [
        "expectation1=gx.expectations.ExpectColumnValuesToBeOfType(\n",
        "    column=\"ride_id\",\n",
        "    type_=\"str\"\n",
        ")\n",
        "\n",
        "expectation2=gx.expectations.ExpectColumnValuesToBeOfType(\n",
        "    column=\"started_at\",\n",
        "    type_=\"str\"\n",
        ")\n",
        "\n",
        "expectation3=gx.expectations.ExpectColumnValuesToBeOfType(\n",
        "    column=\"ended_at\",\n",
        "    type_=\"str\"\n",
        ")\n",
        "\n",
        "expectation4=gx.expectations.ExpectColumnValuesToBeOfType(\n",
        "    column=\"start_station_name\",\n",
        "    type_=\"str\"\n",
        ")\n",
        "\n",
        "expectation5=gx.expectations.ExpectColumnValuesToBeOfType(\n",
        "    column=\"start_station_id \",\n",
        "    type_=\"str\"\n",
        ")\n",
        "\n",
        "expectation6=gx.expectations.ExpectColumnValuesToBeOfType(\n",
        "    column=\"end_station_name\",\n",
        "    type_=\"str\"\n",
        ")\n",
        "\n",
        "expectation7=gx.expectations.ExpectColumnValuesToBeOfType(\n",
        "    column=\"end_station_id\",\n",
        "    type_=\"str\"\n",
        ")"
      ],
      "metadata": {
        "collapsed": true,
        "id": "z3ZgGTuFn23s",
        "outputId": "6f05e473-3c2e-4311-d6e5-4feed7b5b106",
        "colab": {
          "base_uri": "https://localhost:8080/"
        }
      },
      "execution_count": 26,
      "outputs": [
        {
          "output_type": "stream",
          "name": "stderr",
          "text": [
            "/usr/local/lib/python3.11/dist-packages/ipykernel/ipkernel.py:283: DeprecationWarning: `should_run_async` will not call `transform_cell` automatically in the future. Please pass the result to `transformed_cell` argument and any exception that happen during thetransform in `preprocessing_exc_tuple` in IPython 7.17 and above.\n",
            "  and should_run_async(code)\n"
          ]
        }
      ]
    },
    {
      "cell_type": "code",
      "source": [
        "suite.add_expectation(expectation1)\n",
        "suite.add_expectation(expectation2)\n",
        "suite.add_expectation(expectation3)\n",
        "suite.add_expectation(expectation4)\n",
        "suite.add_expectation(expectation5)\n",
        "suite.add_expectation(expectation6)\n",
        "suite.add_expectation(expectation7)"
      ],
      "metadata": {
        "id": "yzGoLhpDrBlA",
        "outputId": "cc595813-763f-4bb1-d816-968e17b42cf6",
        "colab": {
          "base_uri": "https://localhost:8080/"
        }
      },
      "execution_count": 27,
      "outputs": [
        {
          "output_type": "execute_result",
          "data": {
            "text/plain": [
              "ExpectColumnValuesToBeOfType(id=None, meta=None, notes=None, result_format=<ResultFormat.BASIC: 'BASIC'>, description=None, catch_exceptions=True, rendered_content=None, windows=None, batch_id=None, column='end_station_id', mostly=1, row_condition=None, condition_parser=None, type_='str')"
            ]
          },
          "metadata": {},
          "execution_count": 27
        }
      ]
    },
    {
      "cell_type": "code",
      "source": [
        "definition_name=\"my_validation_definition\"\n",
        "validation_definition=gx.ValidationDefinition(\n",
        "    data=batch_definition,suite=suite,name=definition_name\n",
        ")\n"
      ],
      "metadata": {
        "id": "_hVYMETXtWSL"
      },
      "execution_count": 33,
      "outputs": []
    },
    {
      "cell_type": "code",
      "source": [
        "validation_definition = context.validation_definitions.add(validation_definition)\n"
      ],
      "metadata": {
        "id": "gwYbyTt_t1PZ"
      },
      "execution_count": 34,
      "outputs": []
    },
    {
      "cell_type": "code",
      "source": [
        "validation_definition_name = \"my_validation_definition\"\n",
        "validation_definition = context.validation_definitions.get(validation_definition_name)\n",
        "\n",
        "validation_results = validation_definition.run(batch_parameters=my_batch_parameter)\n",
        "print(validation_results)"
      ],
      "metadata": {
        "id": "hUTPSa-iuOLo",
        "outputId": "5bf80f09-9aa1-4492-c32d-65d105e43cac",
        "colab": {
          "base_uri": "https://localhost:8080/",
          "height": 642,
          "referenced_widgets": [
            "f6793497f9ac4538be16b65704d3d638",
            "e4352b6c07ec4b868775d50f64b7a542",
            "890b8b81cd134e55b5f3a198d5b0489b",
            "c2d249645eea480a8fc859468f11183a",
            "a86a1e941b4344a78300ddb6e4f65a61",
            "bc4faf26f07c4ea9864dac6a432d1d3e",
            "8756198c749e4bc6a359e6719ffd7682",
            "43cc7bc5e8664e31b8e3b74c1db0be57",
            "e1d3a3d9e7fe46f9816db4ece86176ed",
            "b548d3c971ae4da5b14f3e8c0f16a5be",
            "4dd873effa4a468fa001bfedbf5b891b"
          ]
        }
      },
      "execution_count": 35,
      "outputs": [
        {
          "output_type": "display_data",
          "data": {
            "text/plain": [
              "Calculating Metrics: 0it [00:00, ?it/s]"
            ],
            "application/vnd.jupyter.widget-view+json": {
              "version_major": 2,
              "version_minor": 0,
              "model_id": "f6793497f9ac4538be16b65704d3d638"
            }
          },
          "metadata": {}
        },
        {
          "output_type": "stream",
          "name": "stdout",
          "text": [
            "{\n",
            "  \"success\": true,\n",
            "  \"results\": [],\n",
            "  \"suite_name\": \"my_suite\",\n",
            "  \"suite_parameters\": {},\n",
            "  \"statistics\": {\n",
            "    \"evaluated_expectations\": 0,\n",
            "    \"successful_expectations\": 0,\n",
            "    \"unsuccessful_expectations\": 0,\n",
            "    \"success_percent\": null\n",
            "  },\n",
            "  \"meta\": {\n",
            "    \"great_expectations_version\": \"1.3.1\",\n",
            "    \"batch_spec\": {\n",
            "      \"batch_data\": \"PandasDataFrame\"\n",
            "    },\n",
            "    \"batch_markers\": {\n",
            "      \"ge_load_time\": \"20250117T103123.379106Z\",\n",
            "      \"pandas_data_fingerprint\": \"cab6d2748d99945d688e732fdb0d85ce\"\n",
            "    },\n",
            "    \"active_batch_definition\": {\n",
            "      \"datasource_name\": \"my_data_source\",\n",
            "      \"data_connector_name\": \"fluent\",\n",
            "      \"data_asset_name\": \"my_dataframe_data_asset\",\n",
            "      \"batch_identifiers\": {\n",
            "        \"dataframe\": \"<DATAFRAME>\"\n",
            "      }\n",
            "    },\n",
            "    \"validation_id\": \"4bf52c49-6d50-4331-aa7b-5c7c6b62157d\",\n",
            "    \"checkpoint_id\": null,\n",
            "    \"batch_parameters\": {\n",
            "      \"dataframe\": \"<DATAFRAME>\"\n",
            "    }\n",
            "  },\n",
            "  \"id\": null\n",
            "}\n"
          ]
        }
      ]
    }
  ],
  "metadata": {
    "kernelspec": {
      "display_name": "Python 3",
      "language": "python",
      "name": "python3"
    },
    "language_info": {
      "codemirror_mode": {
        "name": "ipython",
        "version": 3
      },
      "file_extension": ".py",
      "mimetype": "text/x-python",
      "name": "python",
      "nbconvert_exporter": "python",
      "pygments_lexer": "ipython3",
      "version": "3.11.5"
    },
    "colab": {
      "provenance": [],
      "include_colab_link": true
    },
    "widgets": {
      "application/vnd.jupyter.widget-state+json": {
        "713449c50f4749019103503bfb0d8014": {
          "model_module": "@jupyter-widgets/controls",
          "model_name": "HBoxModel",
          "model_module_version": "1.5.0",
          "state": {
            "_dom_classes": [],
            "_model_module": "@jupyter-widgets/controls",
            "_model_module_version": "1.5.0",
            "_model_name": "HBoxModel",
            "_view_count": null,
            "_view_module": "@jupyter-widgets/controls",
            "_view_module_version": "1.5.0",
            "_view_name": "HBoxView",
            "box_style": "",
            "children": [
              "IPY_MODEL_11d74e3b393c45e682ed2406891093b7",
              "IPY_MODEL_255f9fd222da47a3b62d8b07ab63111e",
              "IPY_MODEL_8802680e0f8c4a89a20311d62364bedb"
            ],
            "layout": "IPY_MODEL_4f38222cdcba4fe29a6580608d3a0400"
          }
        },
        "11d74e3b393c45e682ed2406891093b7": {
          "model_module": "@jupyter-widgets/controls",
          "model_name": "HTMLModel",
          "model_module_version": "1.5.0",
          "state": {
            "_dom_classes": [],
            "_model_module": "@jupyter-widgets/controls",
            "_model_module_version": "1.5.0",
            "_model_name": "HTMLModel",
            "_view_count": null,
            "_view_module": "@jupyter-widgets/controls",
            "_view_module_version": "1.5.0",
            "_view_name": "HTMLView",
            "description": "",
            "description_tooltip": null,
            "layout": "IPY_MODEL_a1a3e685335d4bdab677366413551024",
            "placeholder": "​",
            "style": "IPY_MODEL_99b94cf7011445a8953a08c03856ff2f",
            "value": "Calculating Metrics: 100%"
          }
        },
        "255f9fd222da47a3b62d8b07ab63111e": {
          "model_module": "@jupyter-widgets/controls",
          "model_name": "FloatProgressModel",
          "model_module_version": "1.5.0",
          "state": {
            "_dom_classes": [],
            "_model_module": "@jupyter-widgets/controls",
            "_model_module_version": "1.5.0",
            "_model_name": "FloatProgressModel",
            "_view_count": null,
            "_view_module": "@jupyter-widgets/controls",
            "_view_module_version": "1.5.0",
            "_view_name": "ProgressView",
            "bar_style": "success",
            "description": "",
            "description_tooltip": null,
            "layout": "IPY_MODEL_a8f031d61e9049ca8bf52f36cf91213d",
            "max": 1,
            "min": 0,
            "orientation": "horizontal",
            "style": "IPY_MODEL_dc0efcccb3e04b72b84fac5a1a74140d",
            "value": 1
          }
        },
        "8802680e0f8c4a89a20311d62364bedb": {
          "model_module": "@jupyter-widgets/controls",
          "model_name": "HTMLModel",
          "model_module_version": "1.5.0",
          "state": {
            "_dom_classes": [],
            "_model_module": "@jupyter-widgets/controls",
            "_model_module_version": "1.5.0",
            "_model_name": "HTMLModel",
            "_view_count": null,
            "_view_module": "@jupyter-widgets/controls",
            "_view_module_version": "1.5.0",
            "_view_name": "HTMLView",
            "description": "",
            "description_tooltip": null,
            "layout": "IPY_MODEL_4669549b824b4d54b5767e14934491b2",
            "placeholder": "​",
            "style": "IPY_MODEL_5ed5cd2e9e9947cdb7479d4f1475c286",
            "value": " 1/1 [00:00&lt;00:00, 38.60it/s]"
          }
        },
        "4f38222cdcba4fe29a6580608d3a0400": {
          "model_module": "@jupyter-widgets/base",
          "model_name": "LayoutModel",
          "model_module_version": "1.2.0",
          "state": {
            "_model_module": "@jupyter-widgets/base",
            "_model_module_version": "1.2.0",
            "_model_name": "LayoutModel",
            "_view_count": null,
            "_view_module": "@jupyter-widgets/base",
            "_view_module_version": "1.2.0",
            "_view_name": "LayoutView",
            "align_content": null,
            "align_items": null,
            "align_self": null,
            "border": null,
            "bottom": null,
            "display": null,
            "flex": null,
            "flex_flow": null,
            "grid_area": null,
            "grid_auto_columns": null,
            "grid_auto_flow": null,
            "grid_auto_rows": null,
            "grid_column": null,
            "grid_gap": null,
            "grid_row": null,
            "grid_template_areas": null,
            "grid_template_columns": null,
            "grid_template_rows": null,
            "height": null,
            "justify_content": null,
            "justify_items": null,
            "left": null,
            "margin": null,
            "max_height": null,
            "max_width": null,
            "min_height": null,
            "min_width": null,
            "object_fit": null,
            "object_position": null,
            "order": null,
            "overflow": null,
            "overflow_x": null,
            "overflow_y": null,
            "padding": null,
            "right": null,
            "top": null,
            "visibility": null,
            "width": null
          }
        },
        "a1a3e685335d4bdab677366413551024": {
          "model_module": "@jupyter-widgets/base",
          "model_name": "LayoutModel",
          "model_module_version": "1.2.0",
          "state": {
            "_model_module": "@jupyter-widgets/base",
            "_model_module_version": "1.2.0",
            "_model_name": "LayoutModel",
            "_view_count": null,
            "_view_module": "@jupyter-widgets/base",
            "_view_module_version": "1.2.0",
            "_view_name": "LayoutView",
            "align_content": null,
            "align_items": null,
            "align_self": null,
            "border": null,
            "bottom": null,
            "display": null,
            "flex": null,
            "flex_flow": null,
            "grid_area": null,
            "grid_auto_columns": null,
            "grid_auto_flow": null,
            "grid_auto_rows": null,
            "grid_column": null,
            "grid_gap": null,
            "grid_row": null,
            "grid_template_areas": null,
            "grid_template_columns": null,
            "grid_template_rows": null,
            "height": null,
            "justify_content": null,
            "justify_items": null,
            "left": null,
            "margin": null,
            "max_height": null,
            "max_width": null,
            "min_height": null,
            "min_width": null,
            "object_fit": null,
            "object_position": null,
            "order": null,
            "overflow": null,
            "overflow_x": null,
            "overflow_y": null,
            "padding": null,
            "right": null,
            "top": null,
            "visibility": null,
            "width": null
          }
        },
        "99b94cf7011445a8953a08c03856ff2f": {
          "model_module": "@jupyter-widgets/controls",
          "model_name": "DescriptionStyleModel",
          "model_module_version": "1.5.0",
          "state": {
            "_model_module": "@jupyter-widgets/controls",
            "_model_module_version": "1.5.0",
            "_model_name": "DescriptionStyleModel",
            "_view_count": null,
            "_view_module": "@jupyter-widgets/base",
            "_view_module_version": "1.2.0",
            "_view_name": "StyleView",
            "description_width": ""
          }
        },
        "a8f031d61e9049ca8bf52f36cf91213d": {
          "model_module": "@jupyter-widgets/base",
          "model_name": "LayoutModel",
          "model_module_version": "1.2.0",
          "state": {
            "_model_module": "@jupyter-widgets/base",
            "_model_module_version": "1.2.0",
            "_model_name": "LayoutModel",
            "_view_count": null,
            "_view_module": "@jupyter-widgets/base",
            "_view_module_version": "1.2.0",
            "_view_name": "LayoutView",
            "align_content": null,
            "align_items": null,
            "align_self": null,
            "border": null,
            "bottom": null,
            "display": null,
            "flex": null,
            "flex_flow": null,
            "grid_area": null,
            "grid_auto_columns": null,
            "grid_auto_flow": null,
            "grid_auto_rows": null,
            "grid_column": null,
            "grid_gap": null,
            "grid_row": null,
            "grid_template_areas": null,
            "grid_template_columns": null,
            "grid_template_rows": null,
            "height": null,
            "justify_content": null,
            "justify_items": null,
            "left": null,
            "margin": null,
            "max_height": null,
            "max_width": null,
            "min_height": null,
            "min_width": null,
            "object_fit": null,
            "object_position": null,
            "order": null,
            "overflow": null,
            "overflow_x": null,
            "overflow_y": null,
            "padding": null,
            "right": null,
            "top": null,
            "visibility": null,
            "width": null
          }
        },
        "dc0efcccb3e04b72b84fac5a1a74140d": {
          "model_module": "@jupyter-widgets/controls",
          "model_name": "ProgressStyleModel",
          "model_module_version": "1.5.0",
          "state": {
            "_model_module": "@jupyter-widgets/controls",
            "_model_module_version": "1.5.0",
            "_model_name": "ProgressStyleModel",
            "_view_count": null,
            "_view_module": "@jupyter-widgets/base",
            "_view_module_version": "1.2.0",
            "_view_name": "StyleView",
            "bar_color": null,
            "description_width": ""
          }
        },
        "4669549b824b4d54b5767e14934491b2": {
          "model_module": "@jupyter-widgets/base",
          "model_name": "LayoutModel",
          "model_module_version": "1.2.0",
          "state": {
            "_model_module": "@jupyter-widgets/base",
            "_model_module_version": "1.2.0",
            "_model_name": "LayoutModel",
            "_view_count": null,
            "_view_module": "@jupyter-widgets/base",
            "_view_module_version": "1.2.0",
            "_view_name": "LayoutView",
            "align_content": null,
            "align_items": null,
            "align_self": null,
            "border": null,
            "bottom": null,
            "display": null,
            "flex": null,
            "flex_flow": null,
            "grid_area": null,
            "grid_auto_columns": null,
            "grid_auto_flow": null,
            "grid_auto_rows": null,
            "grid_column": null,
            "grid_gap": null,
            "grid_row": null,
            "grid_template_areas": null,
            "grid_template_columns": null,
            "grid_template_rows": null,
            "height": null,
            "justify_content": null,
            "justify_items": null,
            "left": null,
            "margin": null,
            "max_height": null,
            "max_width": null,
            "min_height": null,
            "min_width": null,
            "object_fit": null,
            "object_position": null,
            "order": null,
            "overflow": null,
            "overflow_x": null,
            "overflow_y": null,
            "padding": null,
            "right": null,
            "top": null,
            "visibility": null,
            "width": null
          }
        },
        "5ed5cd2e9e9947cdb7479d4f1475c286": {
          "model_module": "@jupyter-widgets/controls",
          "model_name": "DescriptionStyleModel",
          "model_module_version": "1.5.0",
          "state": {
            "_model_module": "@jupyter-widgets/controls",
            "_model_module_version": "1.5.0",
            "_model_name": "DescriptionStyleModel",
            "_view_count": null,
            "_view_module": "@jupyter-widgets/base",
            "_view_module_version": "1.2.0",
            "_view_name": "StyleView",
            "description_width": ""
          }
        },
        "f6793497f9ac4538be16b65704d3d638": {
          "model_module": "@jupyter-widgets/controls",
          "model_name": "HBoxModel",
          "model_module_version": "1.5.0",
          "state": {
            "_dom_classes": [],
            "_model_module": "@jupyter-widgets/controls",
            "_model_module_version": "1.5.0",
            "_model_name": "HBoxModel",
            "_view_count": null,
            "_view_module": "@jupyter-widgets/controls",
            "_view_module_version": "1.5.0",
            "_view_name": "HBoxView",
            "box_style": "",
            "children": [
              "IPY_MODEL_e4352b6c07ec4b868775d50f64b7a542",
              "IPY_MODEL_890b8b81cd134e55b5f3a198d5b0489b",
              "IPY_MODEL_c2d249645eea480a8fc859468f11183a"
            ],
            "layout": "IPY_MODEL_a86a1e941b4344a78300ddb6e4f65a61"
          }
        },
        "e4352b6c07ec4b868775d50f64b7a542": {
          "model_module": "@jupyter-widgets/controls",
          "model_name": "HTMLModel",
          "model_module_version": "1.5.0",
          "state": {
            "_dom_classes": [],
            "_model_module": "@jupyter-widgets/controls",
            "_model_module_version": "1.5.0",
            "_model_name": "HTMLModel",
            "_view_count": null,
            "_view_module": "@jupyter-widgets/controls",
            "_view_module_version": "1.5.0",
            "_view_name": "HTMLView",
            "description": "",
            "description_tooltip": null,
            "layout": "IPY_MODEL_bc4faf26f07c4ea9864dac6a432d1d3e",
            "placeholder": "​",
            "style": "IPY_MODEL_8756198c749e4bc6a359e6719ffd7682",
            "value": "Calculating Metrics: "
          }
        },
        "890b8b81cd134e55b5f3a198d5b0489b": {
          "model_module": "@jupyter-widgets/controls",
          "model_name": "FloatProgressModel",
          "model_module_version": "1.5.0",
          "state": {
            "_dom_classes": [],
            "_model_module": "@jupyter-widgets/controls",
            "_model_module_version": "1.5.0",
            "_model_name": "FloatProgressModel",
            "_view_count": null,
            "_view_module": "@jupyter-widgets/controls",
            "_view_module_version": "1.5.0",
            "_view_name": "ProgressView",
            "bar_style": "success",
            "description": "",
            "description_tooltip": null,
            "layout": "IPY_MODEL_43cc7bc5e8664e31b8e3b74c1db0be57",
            "max": 1,
            "min": 0,
            "orientation": "horizontal",
            "style": "IPY_MODEL_e1d3a3d9e7fe46f9816db4ece86176ed",
            "value": 0
          }
        },
        "c2d249645eea480a8fc859468f11183a": {
          "model_module": "@jupyter-widgets/controls",
          "model_name": "HTMLModel",
          "model_module_version": "1.5.0",
          "state": {
            "_dom_classes": [],
            "_model_module": "@jupyter-widgets/controls",
            "_model_module_version": "1.5.0",
            "_model_name": "HTMLModel",
            "_view_count": null,
            "_view_module": "@jupyter-widgets/controls",
            "_view_module_version": "1.5.0",
            "_view_name": "HTMLView",
            "description": "",
            "description_tooltip": null,
            "layout": "IPY_MODEL_b548d3c971ae4da5b14f3e8c0f16a5be",
            "placeholder": "​",
            "style": "IPY_MODEL_4dd873effa4a468fa001bfedbf5b891b",
            "value": " 0/0 [00:00&lt;?, ?it/s]"
          }
        },
        "a86a1e941b4344a78300ddb6e4f65a61": {
          "model_module": "@jupyter-widgets/base",
          "model_name": "LayoutModel",
          "model_module_version": "1.2.0",
          "state": {
            "_model_module": "@jupyter-widgets/base",
            "_model_module_version": "1.2.0",
            "_model_name": "LayoutModel",
            "_view_count": null,
            "_view_module": "@jupyter-widgets/base",
            "_view_module_version": "1.2.0",
            "_view_name": "LayoutView",
            "align_content": null,
            "align_items": null,
            "align_self": null,
            "border": null,
            "bottom": null,
            "display": null,
            "flex": null,
            "flex_flow": null,
            "grid_area": null,
            "grid_auto_columns": null,
            "grid_auto_flow": null,
            "grid_auto_rows": null,
            "grid_column": null,
            "grid_gap": null,
            "grid_row": null,
            "grid_template_areas": null,
            "grid_template_columns": null,
            "grid_template_rows": null,
            "height": null,
            "justify_content": null,
            "justify_items": null,
            "left": null,
            "margin": null,
            "max_height": null,
            "max_width": null,
            "min_height": null,
            "min_width": null,
            "object_fit": null,
            "object_position": null,
            "order": null,
            "overflow": null,
            "overflow_x": null,
            "overflow_y": null,
            "padding": null,
            "right": null,
            "top": null,
            "visibility": null,
            "width": null
          }
        },
        "bc4faf26f07c4ea9864dac6a432d1d3e": {
          "model_module": "@jupyter-widgets/base",
          "model_name": "LayoutModel",
          "model_module_version": "1.2.0",
          "state": {
            "_model_module": "@jupyter-widgets/base",
            "_model_module_version": "1.2.0",
            "_model_name": "LayoutModel",
            "_view_count": null,
            "_view_module": "@jupyter-widgets/base",
            "_view_module_version": "1.2.0",
            "_view_name": "LayoutView",
            "align_content": null,
            "align_items": null,
            "align_self": null,
            "border": null,
            "bottom": null,
            "display": null,
            "flex": null,
            "flex_flow": null,
            "grid_area": null,
            "grid_auto_columns": null,
            "grid_auto_flow": null,
            "grid_auto_rows": null,
            "grid_column": null,
            "grid_gap": null,
            "grid_row": null,
            "grid_template_areas": null,
            "grid_template_columns": null,
            "grid_template_rows": null,
            "height": null,
            "justify_content": null,
            "justify_items": null,
            "left": null,
            "margin": null,
            "max_height": null,
            "max_width": null,
            "min_height": null,
            "min_width": null,
            "object_fit": null,
            "object_position": null,
            "order": null,
            "overflow": null,
            "overflow_x": null,
            "overflow_y": null,
            "padding": null,
            "right": null,
            "top": null,
            "visibility": null,
            "width": null
          }
        },
        "8756198c749e4bc6a359e6719ffd7682": {
          "model_module": "@jupyter-widgets/controls",
          "model_name": "DescriptionStyleModel",
          "model_module_version": "1.5.0",
          "state": {
            "_model_module": "@jupyter-widgets/controls",
            "_model_module_version": "1.5.0",
            "_model_name": "DescriptionStyleModel",
            "_view_count": null,
            "_view_module": "@jupyter-widgets/base",
            "_view_module_version": "1.2.0",
            "_view_name": "StyleView",
            "description_width": ""
          }
        },
        "e1d3a3d9e7fe46f9816db4ece86176ed": {
          "model_module": "@jupyter-widgets/controls",
          "model_name": "ProgressStyleModel",
          "model_module_version": "1.5.0",
          "state": {
            "_model_module": "@jupyter-widgets/controls",
            "_model_module_version": "1.5.0",
            "_model_name": "ProgressStyleModel",
            "_view_count": null,
            "_view_module": "@jupyter-widgets/base",
            "_view_module_version": "1.2.0",
            "_view_name": "StyleView",
            "bar_color": null,
            "description_width": ""
          }
        },
        "b548d3c971ae4da5b14f3e8c0f16a5be": {
          "model_module": "@jupyter-widgets/base",
          "model_name": "LayoutModel",
          "model_module_version": "1.2.0",
          "state": {
            "_model_module": "@jupyter-widgets/base",
            "_model_module_version": "1.2.0",
            "_model_name": "LayoutModel",
            "_view_count": null,
            "_view_module": "@jupyter-widgets/base",
            "_view_module_version": "1.2.0",
            "_view_name": "LayoutView",
            "align_content": null,
            "align_items": null,
            "align_self": null,
            "border": null,
            "bottom": null,
            "display": null,
            "flex": null,
            "flex_flow": null,
            "grid_area": null,
            "grid_auto_columns": null,
            "grid_auto_flow": null,
            "grid_auto_rows": null,
            "grid_column": null,
            "grid_gap": null,
            "grid_row": null,
            "grid_template_areas": null,
            "grid_template_columns": null,
            "grid_template_rows": null,
            "height": null,
            "justify_content": null,
            "justify_items": null,
            "left": null,
            "margin": null,
            "max_height": null,
            "max_width": null,
            "min_height": null,
            "min_width": null,
            "object_fit": null,
            "object_position": null,
            "order": null,
            "overflow": null,
            "overflow_x": null,
            "overflow_y": null,
            "padding": null,
            "right": null,
            "top": null,
            "visibility": null,
            "width": null
          }
        },
        "4dd873effa4a468fa001bfedbf5b891b": {
          "model_module": "@jupyter-widgets/controls",
          "model_name": "DescriptionStyleModel",
          "model_module_version": "1.5.0",
          "state": {
            "_model_module": "@jupyter-widgets/controls",
            "_model_module_version": "1.5.0",
            "_model_name": "DescriptionStyleModel",
            "_view_count": null,
            "_view_module": "@jupyter-widgets/base",
            "_view_module_version": "1.2.0",
            "_view_name": "StyleView",
            "description_width": ""
          }
        }
      }
    }
  },
  "nbformat": 4,
  "nbformat_minor": 0
}