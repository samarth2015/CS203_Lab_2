{
  "cells": [
    {
      "cell_type": "markdown",
      "metadata": {
        "id": "view-in-github",
        "colab_type": "text"
      },
      "source": [
        "<a href=\"https://colab.research.google.com/github/samarth2015/CS203_Lab_2/blob/main/assignment.ipynb\" target=\"_parent\"><img src=\"https://colab.research.google.com/assets/colab-badge.svg\" alt=\"Open In Colab\"/></a>"
      ]
    },
    {
      "cell_type": "markdown",
      "source": [
        "# Pandera Validation"
      ],
      "metadata": {
        "id": "7ePoJvuWFlah"
      }
    },
    {
      "cell_type": "code",
      "source": [
        "from google.colab import drive\n",
        "drive.mount('/content/drive')"
      ],
      "metadata": {
        "id": "ecE8lsdZdrce",
        "outputId": "141b01eb-bd8c-424e-a6d5-36c27c0bd9cb",
        "colab": {
          "base_uri": "https://localhost:8080/"
        }
      },
      "execution_count": 2,
      "outputs": [
        {
          "output_type": "stream",
          "name": "stdout",
          "text": [
            "Mounted at /content/drive\n"
          ]
        }
      ]
    },
    {
      "cell_type": "markdown",
      "source": [
        "## Importing Libraries"
      ],
      "metadata": {
        "id": "DxD5blU9Ft5e"
      }
    },
    {
      "cell_type": "code",
      "source": [
        "!pip install pandera -q"
      ],
      "metadata": {
        "id": "w1w7NY2Pj5gH"
      },
      "execution_count": 20,
      "outputs": []
    },
    {
      "cell_type": "code",
      "source": [
        "import numpy as np\n",
        "import pandas as pd\n",
        "import pandera as pa\n",
        "import matplotlib.pyplot as plt"
      ],
      "metadata": {
        "id": "fOQb8ePHd_N7"
      },
      "execution_count": 4,
      "outputs": []
    },
    {
      "cell_type": "code",
      "source": [
        "import warnings\n",
        "import json\n",
        "\n",
        "warnings.filterwarnings('ignore')"
      ],
      "metadata": {
        "id": "BMkY9qp6io2s"
      },
      "execution_count": 5,
      "outputs": []
    },
    {
      "cell_type": "markdown",
      "source": [
        "## Importing and getting info of data"
      ],
      "metadata": {
        "id": "pSrMJy6_Fwrq"
      }
    },
    {
      "cell_type": "code",
      "source": [
        "#view citibiki trip data\n",
        "\n",
        "citibike_data = pd.read_csv('/content/drive/MyDrive/202412-citibike-tripdata/202412-citibike-tripdata_1.csv')\n",
        "citibike_data.head()"
      ],
      "metadata": {
        "id": "JFiP2j1pdslq",
        "outputId": "c4c4b746-ddb7-4c0e-fc85-1099d8cc5ff7",
        "colab": {
          "base_uri": "https://localhost:8080/",
          "height": 313
        }
      },
      "execution_count": 6,
      "outputs": [
        {
          "output_type": "execute_result",
          "data": {
            "text/plain": [
              "            ride_id  rideable_type               started_at  \\\n",
              "0  B44E5B10AEE58AD0   classic_bike  2024-12-14 10:58:18.153   \n",
              "1  BC252DC6A6011556  electric_bike  2024-12-12 14:46:12.473   \n",
              "2  6FBE55EF6FE8736D  electric_bike  2024-12-11 07:55:18.770   \n",
              "3  908890DE7FDCF9FE  electric_bike  2024-12-09 22:51:11.668   \n",
              "4  D5D366379A4DC0A8   classic_bike  2024-12-10 18:48:40.063   \n",
              "\n",
              "                  ended_at                  start_station_name  \\\n",
              "0  2024-12-14 11:11:11.308  Frederick Douglass Blvd & W 145 St   \n",
              "1  2024-12-12 16:45:37.777               Madison Ave & E 99 St   \n",
              "2  2024-12-11 08:02:23.460               Columbia St & Kane St   \n",
              "3  2024-12-09 22:57:43.495                     E 13 St & 2 Ave   \n",
              "4  2024-12-10 19:10:32.264                    11 Ave & W 41 St   \n",
              "\n",
              "  start_station_id  end_station_name end_station_id  start_lat  start_lng  \\\n",
              "0          7954.12  E 138 St & 5 Ave        7809.13  40.823061 -73.941928   \n",
              "1          7443.01               NaN            NaN  40.789485 -73.952429   \n",
              "2          4422.05               NaN            NaN  40.687632 -74.001626   \n",
              "3          5820.08   E 10 St & 2 Ave        5746.02  40.731539 -73.985302   \n",
              "4          6726.01   E 25 St & 1 Ave        6004.07  40.760301 -73.998842   \n",
              "\n",
              "     end_lat    end_lng member_casual  \n",
              "0  40.814490 -73.936153        member  \n",
              "1  40.780000 -73.960000        member  \n",
              "2  40.690000 -74.000000        member  \n",
              "3  40.729708 -73.986598        member  \n",
              "4  40.738177 -73.977387        member  "
            ],
            "text/html": [
              "\n",
              "  <div id=\"df-8765b2f4-201a-49f1-bb97-21aa97901f44\" class=\"colab-df-container\">\n",
              "    <div>\n",
              "<style scoped>\n",
              "    .dataframe tbody tr th:only-of-type {\n",
              "        vertical-align: middle;\n",
              "    }\n",
              "\n",
              "    .dataframe tbody tr th {\n",
              "        vertical-align: top;\n",
              "    }\n",
              "\n",
              "    .dataframe thead th {\n",
              "        text-align: right;\n",
              "    }\n",
              "</style>\n",
              "<table border=\"1\" class=\"dataframe\">\n",
              "  <thead>\n",
              "    <tr style=\"text-align: right;\">\n",
              "      <th></th>\n",
              "      <th>ride_id</th>\n",
              "      <th>rideable_type</th>\n",
              "      <th>started_at</th>\n",
              "      <th>ended_at</th>\n",
              "      <th>start_station_name</th>\n",
              "      <th>start_station_id</th>\n",
              "      <th>end_station_name</th>\n",
              "      <th>end_station_id</th>\n",
              "      <th>start_lat</th>\n",
              "      <th>start_lng</th>\n",
              "      <th>end_lat</th>\n",
              "      <th>end_lng</th>\n",
              "      <th>member_casual</th>\n",
              "    </tr>\n",
              "  </thead>\n",
              "  <tbody>\n",
              "    <tr>\n",
              "      <th>0</th>\n",
              "      <td>B44E5B10AEE58AD0</td>\n",
              "      <td>classic_bike</td>\n",
              "      <td>2024-12-14 10:58:18.153</td>\n",
              "      <td>2024-12-14 11:11:11.308</td>\n",
              "      <td>Frederick Douglass Blvd &amp; W 145 St</td>\n",
              "      <td>7954.12</td>\n",
              "      <td>E 138 St &amp; 5 Ave</td>\n",
              "      <td>7809.13</td>\n",
              "      <td>40.823061</td>\n",
              "      <td>-73.941928</td>\n",
              "      <td>40.814490</td>\n",
              "      <td>-73.936153</td>\n",
              "      <td>member</td>\n",
              "    </tr>\n",
              "    <tr>\n",
              "      <th>1</th>\n",
              "      <td>BC252DC6A6011556</td>\n",
              "      <td>electric_bike</td>\n",
              "      <td>2024-12-12 14:46:12.473</td>\n",
              "      <td>2024-12-12 16:45:37.777</td>\n",
              "      <td>Madison Ave &amp; E 99 St</td>\n",
              "      <td>7443.01</td>\n",
              "      <td>NaN</td>\n",
              "      <td>NaN</td>\n",
              "      <td>40.789485</td>\n",
              "      <td>-73.952429</td>\n",
              "      <td>40.780000</td>\n",
              "      <td>-73.960000</td>\n",
              "      <td>member</td>\n",
              "    </tr>\n",
              "    <tr>\n",
              "      <th>2</th>\n",
              "      <td>6FBE55EF6FE8736D</td>\n",
              "      <td>electric_bike</td>\n",
              "      <td>2024-12-11 07:55:18.770</td>\n",
              "      <td>2024-12-11 08:02:23.460</td>\n",
              "      <td>Columbia St &amp; Kane St</td>\n",
              "      <td>4422.05</td>\n",
              "      <td>NaN</td>\n",
              "      <td>NaN</td>\n",
              "      <td>40.687632</td>\n",
              "      <td>-74.001626</td>\n",
              "      <td>40.690000</td>\n",
              "      <td>-74.000000</td>\n",
              "      <td>member</td>\n",
              "    </tr>\n",
              "    <tr>\n",
              "      <th>3</th>\n",
              "      <td>908890DE7FDCF9FE</td>\n",
              "      <td>electric_bike</td>\n",
              "      <td>2024-12-09 22:51:11.668</td>\n",
              "      <td>2024-12-09 22:57:43.495</td>\n",
              "      <td>E 13 St &amp; 2 Ave</td>\n",
              "      <td>5820.08</td>\n",
              "      <td>E 10 St &amp; 2 Ave</td>\n",
              "      <td>5746.02</td>\n",
              "      <td>40.731539</td>\n",
              "      <td>-73.985302</td>\n",
              "      <td>40.729708</td>\n",
              "      <td>-73.986598</td>\n",
              "      <td>member</td>\n",
              "    </tr>\n",
              "    <tr>\n",
              "      <th>4</th>\n",
              "      <td>D5D366379A4DC0A8</td>\n",
              "      <td>classic_bike</td>\n",
              "      <td>2024-12-10 18:48:40.063</td>\n",
              "      <td>2024-12-10 19:10:32.264</td>\n",
              "      <td>11 Ave &amp; W 41 St</td>\n",
              "      <td>6726.01</td>\n",
              "      <td>E 25 St &amp; 1 Ave</td>\n",
              "      <td>6004.07</td>\n",
              "      <td>40.760301</td>\n",
              "      <td>-73.998842</td>\n",
              "      <td>40.738177</td>\n",
              "      <td>-73.977387</td>\n",
              "      <td>member</td>\n",
              "    </tr>\n",
              "  </tbody>\n",
              "</table>\n",
              "</div>\n",
              "    <div class=\"colab-df-buttons\">\n",
              "\n",
              "  <div class=\"colab-df-container\">\n",
              "    <button class=\"colab-df-convert\" onclick=\"convertToInteractive('df-8765b2f4-201a-49f1-bb97-21aa97901f44')\"\n",
              "            title=\"Convert this dataframe to an interactive table.\"\n",
              "            style=\"display:none;\">\n",
              "\n",
              "  <svg xmlns=\"http://www.w3.org/2000/svg\" height=\"24px\" viewBox=\"0 -960 960 960\">\n",
              "    <path d=\"M120-120v-720h720v720H120Zm60-500h600v-160H180v160Zm220 220h160v-160H400v160Zm0 220h160v-160H400v160ZM180-400h160v-160H180v160Zm440 0h160v-160H620v160ZM180-180h160v-160H180v160Zm440 0h160v-160H620v160Z\"/>\n",
              "  </svg>\n",
              "    </button>\n",
              "\n",
              "  <style>\n",
              "    .colab-df-container {\n",
              "      display:flex;\n",
              "      gap: 12px;\n",
              "    }\n",
              "\n",
              "    .colab-df-convert {\n",
              "      background-color: #E8F0FE;\n",
              "      border: none;\n",
              "      border-radius: 50%;\n",
              "      cursor: pointer;\n",
              "      display: none;\n",
              "      fill: #1967D2;\n",
              "      height: 32px;\n",
              "      padding: 0 0 0 0;\n",
              "      width: 32px;\n",
              "    }\n",
              "\n",
              "    .colab-df-convert:hover {\n",
              "      background-color: #E2EBFA;\n",
              "      box-shadow: 0px 1px 2px rgba(60, 64, 67, 0.3), 0px 1px 3px 1px rgba(60, 64, 67, 0.15);\n",
              "      fill: #174EA6;\n",
              "    }\n",
              "\n",
              "    .colab-df-buttons div {\n",
              "      margin-bottom: 4px;\n",
              "    }\n",
              "\n",
              "    [theme=dark] .colab-df-convert {\n",
              "      background-color: #3B4455;\n",
              "      fill: #D2E3FC;\n",
              "    }\n",
              "\n",
              "    [theme=dark] .colab-df-convert:hover {\n",
              "      background-color: #434B5C;\n",
              "      box-shadow: 0px 1px 3px 1px rgba(0, 0, 0, 0.15);\n",
              "      filter: drop-shadow(0px 1px 2px rgba(0, 0, 0, 0.3));\n",
              "      fill: #FFFFFF;\n",
              "    }\n",
              "  </style>\n",
              "\n",
              "    <script>\n",
              "      const buttonEl =\n",
              "        document.querySelector('#df-8765b2f4-201a-49f1-bb97-21aa97901f44 button.colab-df-convert');\n",
              "      buttonEl.style.display =\n",
              "        google.colab.kernel.accessAllowed ? 'block' : 'none';\n",
              "\n",
              "      async function convertToInteractive(key) {\n",
              "        const element = document.querySelector('#df-8765b2f4-201a-49f1-bb97-21aa97901f44');\n",
              "        const dataTable =\n",
              "          await google.colab.kernel.invokeFunction('convertToInteractive',\n",
              "                                                    [key], {});\n",
              "        if (!dataTable) return;\n",
              "\n",
              "        const docLinkHtml = 'Like what you see? Visit the ' +\n",
              "          '<a target=\"_blank\" href=https://colab.research.google.com/notebooks/data_table.ipynb>data table notebook</a>'\n",
              "          + ' to learn more about interactive tables.';\n",
              "        element.innerHTML = '';\n",
              "        dataTable['output_type'] = 'display_data';\n",
              "        await google.colab.output.renderOutput(dataTable, element);\n",
              "        const docLink = document.createElement('div');\n",
              "        docLink.innerHTML = docLinkHtml;\n",
              "        element.appendChild(docLink);\n",
              "      }\n",
              "    </script>\n",
              "  </div>\n",
              "\n",
              "\n",
              "<div id=\"df-e1fc7d37-7617-4bd6-afec-b7ab648c8661\">\n",
              "  <button class=\"colab-df-quickchart\" onclick=\"quickchart('df-e1fc7d37-7617-4bd6-afec-b7ab648c8661')\"\n",
              "            title=\"Suggest charts\"\n",
              "            style=\"display:none;\">\n",
              "\n",
              "<svg xmlns=\"http://www.w3.org/2000/svg\" height=\"24px\"viewBox=\"0 0 24 24\"\n",
              "     width=\"24px\">\n",
              "    <g>\n",
              "        <path d=\"M19 3H5c-1.1 0-2 .9-2 2v14c0 1.1.9 2 2 2h14c1.1 0 2-.9 2-2V5c0-1.1-.9-2-2-2zM9 17H7v-7h2v7zm4 0h-2V7h2v10zm4 0h-2v-4h2v4z\"/>\n",
              "    </g>\n",
              "</svg>\n",
              "  </button>\n",
              "\n",
              "<style>\n",
              "  .colab-df-quickchart {\n",
              "      --bg-color: #E8F0FE;\n",
              "      --fill-color: #1967D2;\n",
              "      --hover-bg-color: #E2EBFA;\n",
              "      --hover-fill-color: #174EA6;\n",
              "      --disabled-fill-color: #AAA;\n",
              "      --disabled-bg-color: #DDD;\n",
              "  }\n",
              "\n",
              "  [theme=dark] .colab-df-quickchart {\n",
              "      --bg-color: #3B4455;\n",
              "      --fill-color: #D2E3FC;\n",
              "      --hover-bg-color: #434B5C;\n",
              "      --hover-fill-color: #FFFFFF;\n",
              "      --disabled-bg-color: #3B4455;\n",
              "      --disabled-fill-color: #666;\n",
              "  }\n",
              "\n",
              "  .colab-df-quickchart {\n",
              "    background-color: var(--bg-color);\n",
              "    border: none;\n",
              "    border-radius: 50%;\n",
              "    cursor: pointer;\n",
              "    display: none;\n",
              "    fill: var(--fill-color);\n",
              "    height: 32px;\n",
              "    padding: 0;\n",
              "    width: 32px;\n",
              "  }\n",
              "\n",
              "  .colab-df-quickchart:hover {\n",
              "    background-color: var(--hover-bg-color);\n",
              "    box-shadow: 0 1px 2px rgba(60, 64, 67, 0.3), 0 1px 3px 1px rgba(60, 64, 67, 0.15);\n",
              "    fill: var(--button-hover-fill-color);\n",
              "  }\n",
              "\n",
              "  .colab-df-quickchart-complete:disabled,\n",
              "  .colab-df-quickchart-complete:disabled:hover {\n",
              "    background-color: var(--disabled-bg-color);\n",
              "    fill: var(--disabled-fill-color);\n",
              "    box-shadow: none;\n",
              "  }\n",
              "\n",
              "  .colab-df-spinner {\n",
              "    border: 2px solid var(--fill-color);\n",
              "    border-color: transparent;\n",
              "    border-bottom-color: var(--fill-color);\n",
              "    animation:\n",
              "      spin 1s steps(1) infinite;\n",
              "  }\n",
              "\n",
              "  @keyframes spin {\n",
              "    0% {\n",
              "      border-color: transparent;\n",
              "      border-bottom-color: var(--fill-color);\n",
              "      border-left-color: var(--fill-color);\n",
              "    }\n",
              "    20% {\n",
              "      border-color: transparent;\n",
              "      border-left-color: var(--fill-color);\n",
              "      border-top-color: var(--fill-color);\n",
              "    }\n",
              "    30% {\n",
              "      border-color: transparent;\n",
              "      border-left-color: var(--fill-color);\n",
              "      border-top-color: var(--fill-color);\n",
              "      border-right-color: var(--fill-color);\n",
              "    }\n",
              "    40% {\n",
              "      border-color: transparent;\n",
              "      border-right-color: var(--fill-color);\n",
              "      border-top-color: var(--fill-color);\n",
              "    }\n",
              "    60% {\n",
              "      border-color: transparent;\n",
              "      border-right-color: var(--fill-color);\n",
              "    }\n",
              "    80% {\n",
              "      border-color: transparent;\n",
              "      border-right-color: var(--fill-color);\n",
              "      border-bottom-color: var(--fill-color);\n",
              "    }\n",
              "    90% {\n",
              "      border-color: transparent;\n",
              "      border-bottom-color: var(--fill-color);\n",
              "    }\n",
              "  }\n",
              "</style>\n",
              "\n",
              "  <script>\n",
              "    async function quickchart(key) {\n",
              "      const quickchartButtonEl =\n",
              "        document.querySelector('#' + key + ' button');\n",
              "      quickchartButtonEl.disabled = true;  // To prevent multiple clicks.\n",
              "      quickchartButtonEl.classList.add('colab-df-spinner');\n",
              "      try {\n",
              "        const charts = await google.colab.kernel.invokeFunction(\n",
              "            'suggestCharts', [key], {});\n",
              "      } catch (error) {\n",
              "        console.error('Error during call to suggestCharts:', error);\n",
              "      }\n",
              "      quickchartButtonEl.classList.remove('colab-df-spinner');\n",
              "      quickchartButtonEl.classList.add('colab-df-quickchart-complete');\n",
              "    }\n",
              "    (() => {\n",
              "      let quickchartButtonEl =\n",
              "        document.querySelector('#df-e1fc7d37-7617-4bd6-afec-b7ab648c8661 button');\n",
              "      quickchartButtonEl.style.display =\n",
              "        google.colab.kernel.accessAllowed ? 'block' : 'none';\n",
              "    })();\n",
              "  </script>\n",
              "</div>\n",
              "\n",
              "    </div>\n",
              "  </div>\n"
            ],
            "application/vnd.google.colaboratory.intrinsic+json": {
              "type": "dataframe",
              "variable_name": "citibike_data"
            }
          },
          "metadata": {},
          "execution_count": 6
        }
      ]
    },
    {
      "cell_type": "code",
      "source": [
        "citibike_data.info()"
      ],
      "metadata": {
        "id": "9lxkakfClt_Z",
        "outputId": "d1056fd1-5443-4046-81ab-3371ce0bf1ac",
        "colab": {
          "base_uri": "https://localhost:8080/"
        }
      },
      "execution_count": 7,
      "outputs": [
        {
          "output_type": "stream",
          "name": "stdout",
          "text": [
            "<class 'pandas.core.frame.DataFrame'>\n",
            "RangeIndex: 1000000 entries, 0 to 999999\n",
            "Data columns (total 13 columns):\n",
            " #   Column              Non-Null Count    Dtype  \n",
            "---  ------              --------------    -----  \n",
            " 0   ride_id             1000000 non-null  object \n",
            " 1   rideable_type       1000000 non-null  object \n",
            " 2   started_at          1000000 non-null  object \n",
            " 3   ended_at            1000000 non-null  object \n",
            " 4   start_station_name  999375 non-null   object \n",
            " 5   start_station_id    999375 non-null   object \n",
            " 6   end_station_name    996417 non-null   object \n",
            " 7   end_station_id      995525 non-null   object \n",
            " 8   start_lat           1000000 non-null  float64\n",
            " 9   start_lng           1000000 non-null  float64\n",
            " 10  end_lat             999795 non-null   float64\n",
            " 11  end_lng             999795 non-null   float64\n",
            " 12  member_casual       1000000 non-null  object \n",
            "dtypes: float64(4), object(9)\n",
            "memory usage: 99.2+ MB\n"
          ]
        }
      ]
    },
    {
      "cell_type": "code",
      "source": [
        "#check that all the ride_ids are unique\n",
        "print(citibike_data.shape[0] == len(citibike_data['ride_id'].unique()))\n",
        "\n",
        "#get the unique rideable types\n",
        "print(citibike_data['rideable_type'].unique())\n",
        "\n",
        "#get the unique member_casual\n",
        "print(citibike_data['member_casual'].unique())"
      ],
      "metadata": {
        "id": "sgl4dCRbc2Vt",
        "outputId": "dcdabef1-079f-4213-8880-7792df349dbb",
        "colab": {
          "base_uri": "https://localhost:8080/"
        }
      },
      "execution_count": 19,
      "outputs": [
        {
          "output_type": "stream",
          "name": "stdout",
          "text": [
            "True\n",
            "['classic_bike' 'electric_bike']\n",
            "['member' 'casual']\n"
          ]
        }
      ]
    },
    {
      "cell_type": "code",
      "source": [
        "print(type(citibike_data['started_at'][0]))"
      ],
      "metadata": {
        "id": "OIOpEKnbf7XT",
        "outputId": "eaee9747-08b2-4e99-f4d8-d2b37743e34b",
        "colab": {
          "base_uri": "https://localhost:8080/"
        }
      },
      "execution_count": 9,
      "outputs": [
        {
          "output_type": "stream",
          "name": "stdout",
          "text": [
            "<class 'str'>\n"
          ]
        }
      ]
    },
    {
      "cell_type": "code",
      "source": [
        "#convert the start_station_id and end_station_id to string\n",
        "citibike_data['start_station_id'] = citibike_data['start_station_id'].astype(str)\n",
        "citibike_data['end_station_id'] = citibike_data['end_station_id'].astype(str)"
      ],
      "metadata": {
        "id": "vR2fzupUue3q"
      },
      "execution_count": 10,
      "outputs": []
    },
    {
      "cell_type": "markdown",
      "source": [
        "## a. Validate the datatype of each column."
      ],
      "metadata": {
        "id": "6jxgYze5F3KF"
      }
    },
    {
      "cell_type": "code",
      "source": [
        "schema_1 = pa.DataFrameSchema({\n",
        "    #validating the datatypes of the columns.\n",
        "\n",
        "    'ride_id': pa.Column(pa.String, nullable=False),\n",
        "\n",
        "    #for categorical values we can use isin to validate\n",
        "    'rideable_type': pa.Column(pa.String, checks = [\n",
        "        pa.Check.isin(['classic_bike', 'electric_bike'])\n",
        "    ], nullable=False),\n",
        "\n",
        "    'started_at': pa.Column(pa.String, nullable=False),\n",
        "\n",
        "    'ended_at': pa.Column(pa.String, nullable=False),\n",
        "\n",
        "    'start_station_name': pa.Column(pa.String, nullable=False),\n",
        "    'start_station_id': pa.Column(pa.String, nullable=False),\n",
        "\n",
        "    'end_station_name': pa.Column(pa.String, nullable=False),\n",
        "    'end_station_id': pa.Column(pa.String, nullable=False),\n",
        "\n",
        "    #data types of the latitude and longitude are float\n",
        "    'start_lat': pa.Column(pa.Float, nullable=False),\n",
        "    'start_lng': pa.Column(pa.Float, nullable=False),\n",
        "\n",
        "    'end_lat': pa.Column(pa.Float, nullable=False),\n",
        "    'end_lng': pa.Column(pa.Float, nullable=False),\n",
        "\n",
        "    'member_casual': pa.Column(pa.String, checks = [\n",
        "        pa.Check.isin(['member', 'casual'])\n",
        "    ], nullable=False),\n",
        "\n",
        "\n",
        "}, drop_invalid_rows=False)\n",
        "\n",
        "\n",
        "try:\n",
        "    schema_1.validate(citibike_data, lazy=True)\n",
        "except pa.errors.SchemaErrors as e:\n",
        "    print(json.dumps(e.message, indent=2))"
      ],
      "metadata": {
        "id": "eVFGzI_3Dzwa",
        "outputId": "913c1b57-724d-4b19-eb01-3c0cd94e1b8f",
        "colab": {
          "base_uri": "https://localhost:8080/"
        }
      },
      "execution_count": 16,
      "outputs": [
        {
          "output_type": "stream",
          "name": "stdout",
          "text": [
            "{\n",
            "  \"SCHEMA\": {\n",
            "    \"SERIES_CONTAINS_NULLS\": [\n",
            "      {\n",
            "        \"schema\": null,\n",
            "        \"column\": \"start_station_name\",\n",
            "        \"check\": \"not_nullable\",\n",
            "        \"error\": \"non-nullable series 'start_station_name' contains null values:7183      NaN8010      NaN9244      NaN10186     NaN10791     NaN         ... 995036    NaN999616    NaN999641    NaN999668    NaN999688    NaNName: start_station_name, Length: 625, dtype: object\"\n",
            "      },\n",
            "      {\n",
            "        \"schema\": null,\n",
            "        \"column\": \"end_station_name\",\n",
            "        \"check\": \"not_nullable\",\n",
            "        \"error\": \"non-nullable series 'end_station_name' contains null values:1         NaN2         NaN204       NaN206       NaN207       NaN         ... 426414    NaN426418    NaN426421    NaN426422    NaN426424    NaNName: end_station_name, Length: 3583, dtype: object\"\n",
            "      },\n",
            "      {\n",
            "        \"schema\": null,\n",
            "        \"column\": \"end_lat\",\n",
            "        \"check\": \"not_nullable\",\n",
            "        \"error\": \"non-nullable series 'end_lat' contains null values:2143     NaN2270     NaN2332     NaN5335     NaN7777     NaN          ..426271   NaN426301   NaN426332   NaN426360   NaN426393   NaNName: end_lat, Length: 205, dtype: float64\"\n",
            "      },\n",
            "      {\n",
            "        \"schema\": null,\n",
            "        \"column\": \"end_lng\",\n",
            "        \"check\": \"not_nullable\",\n",
            "        \"error\": \"non-nullable series 'end_lng' contains null values:2143     NaN2270     NaN2332     NaN5335     NaN7777     NaN          ..426271   NaN426301   NaN426332   NaN426360   NaN426393   NaNName: end_lng, Length: 205, dtype: float64\"\n",
            "      }\n",
            "    ]\n",
            "  }\n",
            "}\n"
          ]
        }
      ]
    },
    {
      "cell_type": "markdown",
      "source": [
        "## b. Analyze each feature and write an appropriate check/scheme for them. For example, for “rideable_type” check the unique options and ensure that no other entry passes the check."
      ],
      "metadata": {
        "id": "-7gCIO3AF7pM"
      }
    },
    {
      "cell_type": "code",
      "source": [
        "schema_2 = pa.DataFrameSchema({\n",
        "    'ride_id': pa.Column(pa.String, checks = [\n",
        "        pa.Check(lambda s: s.str.len() == 16)\n",
        "    ], nullable=False),\n",
        "\n",
        "    'rideable_type': pa.Column(pa.String, checks = [\n",
        "        pa.Check.isin(['classic_bike', 'electric_bike'])\n",
        "    ], nullable=False),\n",
        "\n",
        "\n",
        "    'start_lat': pa.Column(pa.Float, checks = [\n",
        "        pa.Check.ge(-90), pa.Check.le(90)\n",
        "    ], nullable=False),\n",
        "    'start_lng': pa.Column(pa.Float, checks = [\n",
        "        pa.Check.ge(-180), pa.Check.le(180)\n",
        "    ], nullable=False),\n",
        "\n",
        "    'end_lat': pa.Column(pa.Float, checks = [\n",
        "        pa.Check.ge(-90), pa.Check.le(90)\n",
        "    ], nullable=False),\n",
        "    'end_lng': pa.Column(pa.Float, checks = [\n",
        "        pa.Check.ge(-180), pa.Check.le(180)\n",
        "    ], nullable=False),\n",
        "\n",
        "    'member_casual': pa.Column(pa.String, checks = [\n",
        "        pa.Check.isin(['member', 'casual'])\n",
        "    ], nullable=False),\n",
        "\n",
        "\n",
        "}, drop_invalid_rows=False)\n",
        "\n",
        "\n",
        "try:\n",
        "    schema_2.validate(citibike_data, lazy=True)\n",
        "except pa.errors.SchemaErrors as e:\n",
        "    print(json.dumps(e.message, indent=2))"
      ],
      "metadata": {
        "id": "JvgJ0dWmfvJL",
        "outputId": "1035c353-ae1b-4306-b9d1-6adfc44fbe61",
        "colab": {
          "base_uri": "https://localhost:8080/"
        }
      },
      "execution_count": 15,
      "outputs": [
        {
          "output_type": "stream",
          "name": "stdout",
          "text": [
            "{\n",
            "  \"SCHEMA\": {\n",
            "    \"SERIES_CONTAINS_NULLS\": [\n",
            "      {\n",
            "        \"schema\": null,\n",
            "        \"column\": \"end_lat\",\n",
            "        \"check\": \"not_nullable\",\n",
            "        \"error\": \"non-nullable series 'end_lat' contains null values:2143     NaN2270     NaN2332     NaN5335     NaN7777     NaN          ..426271   NaN426301   NaN426332   NaN426360   NaN426393   NaNName: end_lat, Length: 205, dtype: float64\"\n",
            "      },\n",
            "      {\n",
            "        \"schema\": null,\n",
            "        \"column\": \"end_lng\",\n",
            "        \"check\": \"not_nullable\",\n",
            "        \"error\": \"non-nullable series 'end_lng' contains null values:2143     NaN2270     NaN2332     NaN5335     NaN7777     NaN          ..426271   NaN426301   NaN426332   NaN426360   NaN426393   NaNName: end_lng, Length: 205, dtype: float64\"\n",
            "      }\n",
            "    ]\n",
            "  }\n",
            "}\n"
          ]
        }
      ]
    },
    {
      "cell_type": "markdown",
      "source": [
        "## c. Add data validation rules to verify that a ride's end time occurs after its start time using Pandera's decorator functionality."
      ],
      "metadata": {
        "id": "zO_ci37bF_nj"
      }
    },
    {
      "cell_type": "code",
      "source": [
        "citibike_data['started_at'] = pd.to_datetime(citibike_data['started_at'])\n",
        "citibike_data['ended_at'] = pd.to_datetime(citibike_data['ended_at'])"
      ],
      "metadata": {
        "id": "eaJFkcZpcOOP"
      },
      "execution_count": 17,
      "outputs": []
    },
    {
      "cell_type": "code",
      "source": [
        "schema_time = pa.DataFrameSchema({\n",
        "    'time_diff' : pa.Column(pa.Float, checks = [\n",
        "        pa.Check.ge(0)\n",
        "    ], nullable=False)\n",
        "})\n",
        "\n",
        "@pa.check_output(schema_time)\n",
        "def preprocessor(dataframe):\n",
        "    dataframe[\"time_diff\"] = citibike_data[\"ended_at\"] - citibike_data[\"started_at\"]\n",
        "    dataframe[\"time_diff\"] = dataframe[\"time_diff\"].dt.total_seconds()\n",
        "    dataframe[\"time_diff\"] = pd.to_numeric(dataframe[\"time_diff\"], downcast=\"float\")\n",
        "    return dataframe\n",
        "\n",
        "citibike_processed = preprocessor(citibike_data)\n",
        "\n",
        "try:\n",
        "    schema_time.validate(citibike_processed, lazy=True)\n",
        "    print(\"Success\")\n",
        "except pa.errors.SchemaErrors as e:\n",
        "    print(json.dumps(e.message, indent=2))"
      ],
      "metadata": {
        "id": "NHU8miiptr1P",
        "outputId": "ac3a209c-e3dd-44f1-8add-975e12c299c3",
        "colab": {
          "base_uri": "https://localhost:8080/"
        }
      },
      "execution_count": 18,
      "outputs": [
        {
          "output_type": "stream",
          "name": "stdout",
          "text": [
            "Success\n"
          ]
        }
      ]
    },
    {
      "cell_type": "code",
      "source": [],
      "metadata": {
        "id": "R994w_6zxc0B"
      },
      "execution_count": null,
      "outputs": []
    }
  ],
  "metadata": {
    "kernelspec": {
      "display_name": "Python 3",
      "language": "python",
      "name": "python3"
    },
    "language_info": {
      "name": "python",
      "version": "3.13.1"
    },
    "colab": {
      "provenance": [],
      "include_colab_link": true
    }
  },
  "nbformat": 4,
  "nbformat_minor": 0
}